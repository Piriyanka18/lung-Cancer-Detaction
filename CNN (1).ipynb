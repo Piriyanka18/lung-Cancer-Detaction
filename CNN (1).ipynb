{
  "nbformat": 4,
  "nbformat_minor": 0,
  "metadata": {
    "colab": {
      "provenance": []
    },
    "kernelspec": {
      "name": "python3",
      "display_name": "Python 3"
    },
    "language_info": {
      "name": "python"
    },
    "accelerator": "GPU",
    "gpuClass": "standard"
  },
  "cells": [
    {
      "cell_type": "code",
      "source": [
        "import os"
      ],
      "metadata": {
        "id": "J7TSSqUttQcI"
      },
      "execution_count": 1,
      "outputs": []
    },
    {
      "cell_type": "code",
      "source": [
        "from google.colab import drive\n",
        "drive.mount('/content/drive')"
      ],
      "metadata": {
        "colab": {
          "base_uri": "https://localhost:8080/"
        },
        "id": "3-hZJLbZY_eT",
        "outputId": "288ec1ce-4cf5-419e-c151-611cd7b4baba"
      },
      "execution_count": 3,
      "outputs": [
        {
          "output_type": "stream",
          "name": "stdout",
          "text": [
            "Mounted at /content/drive\n"
          ]
        }
      ]
    },
    {
      "cell_type": "markdown",
      "source": [
        "**Exploratory Data Analysis (EDA)**"
      ],
      "metadata": {
        "id": "iuyi4iFCth9v"
      }
    },
    {
      "cell_type": "code",
      "source": [
        "import warnings\n",
        "warnings.filterwarnings('ignore')\n",
        "# Get all the paths\n",
        "data_dir_list = os.listdir('/content/drive/MyDrive/Data')\n",
        "print(data_dir_list)\n",
        "path, dirs, files = next(os.walk(\"/content/drive/MyDrive/Data\"))\n",
        "file_count = len(files)\n",
        "#print(file_count)"
      ],
      "metadata": {
        "colab": {
          "base_uri": "https://localhost:8080/"
        },
        "id": "CqkxuH3dtcGN",
        "outputId": "148fed6f-d4b2-402c-b205-2cf8b4f92b25"
      },
      "execution_count": 13,
      "outputs": [
        {
          "output_type": "stream",
          "name": "stdout",
          "text": [
            "['Bengin cases', 'Malignant cases']\n"
          ]
        }
      ]
    },
    {
      "cell_type": "code",
      "source": [
        "# Make new base directory\n",
        "original_dataset_dir = '/content/drive/MyDrive/Data'\n",
        "base_dir = '/content/drive/MyDrive/Split_data_CNN'\n",
        "os.mkdir(base_dir)"
      ],
      "metadata": {
        "id": "b_2ERtNqt6MF"
      },
      "execution_count": 16,
      "outputs": []
    },
    {
      "cell_type": "code",
      "source": [
        "#create two folders (train and validation)\n",
        "train_dir = os.path.join(base_dir, 'train')\n",
        "os.mkdir(train_dir)\n",
        "\n",
        "validation_dir = os.path.join(base_dir, 'validation')\n",
        "os.mkdir(validation_dir)"
      ],
      "metadata": {
        "id": "3N1N30Bmu1oX"
      },
      "execution_count": 17,
      "outputs": []
    },
    {
      "cell_type": "code",
      "source": [
        "#Under train folder create two folders \n",
        "\n",
        "train_cloud_dir = os.path.join(train_dir, 'Bengin cases')\n",
        "os.mkdir(train_cloud_dir)\n",
        "\n",
        "train_foggy_dir = os.path.join(train_dir, 'Malignant cases')\n",
        "os.mkdir(train_foggy_dir)"
      ],
      "metadata": {
        "id": "vxTYiE3fvTbX"
      },
      "execution_count": 18,
      "outputs": []
    },
    {
      "cell_type": "code",
      "source": [
        "#Under validation folder create two folders \n",
        "\n",
        "validation_cloud_dir = os.path.join(validation_dir, 'Bengin cases')\n",
        "os.mkdir(validation_cloud_dir)\n",
        "\n",
        "validation_foggy_dir = os.path.join(validation_dir, 'Malignant cases')\n",
        "os.mkdir(validation_foggy_dir)"
      ],
      "metadata": {
        "id": "A7PuuDL2v2T2"
      },
      "execution_count": 19,
      "outputs": []
    },
    {
      "cell_type": "code",
      "source": [
        "import os\n",
        "import random\n",
        "from shutil import copyfile"
      ],
      "metadata": {
        "id": "rEcHmXG_xrQC"
      },
      "execution_count": 20,
      "outputs": []
    },
    {
      "cell_type": "code",
      "source": [
        "def split_data(SOURCE, TRAINING, VALIDATION, SPLIT_SIZE):\n",
        "    files = []\n",
        "    for filename in os.listdir(SOURCE):\n",
        "        file = SOURCE + filename\n",
        "        if os.path.getsize(file) > 0:\n",
        "            files.append(filename)\n",
        "        else:\n",
        "            print(filename + \" is zero length, so ignoring.\")\n",
        "\n",
        "    training_length = int(len(files) * SPLIT_SIZE)\n",
        "    valid_length = int(len(files) - training_length)\n",
        "    shuffled_set = random.sample(files, len(files))\n",
        "    training_set = shuffled_set[0:training_length]\n",
        "    valid_set = shuffled_set[training_length:]\n",
        "\n",
        "    for filename in training_set:\n",
        "        this_file = SOURCE + filename\n",
        "        destination = TRAINING + filename\n",
        "        copyfile(this_file, destination)\n",
        "\n",
        "    for filename in valid_set:\n",
        "        this_file = SOURCE + filename\n",
        "        destination = VALIDATION + filename\n",
        "        copyfile(this_file, destination)"
      ],
      "metadata": {
        "id": "cuvWOq1PwFOb"
      },
      "execution_count": 21,
      "outputs": []
    },
    {
      "cell_type": "code",
      "source": [
        "BENGIN_SOURCE_DIR = '/content/drive/MyDrive/Data/Bengin cases/'\n",
        "TRAINING_BENGIN_DIR = '/content/drive/MyDrive/Split_data_CNN/train/Bengin cases/'\n",
        "VALID_BENGIN_DIR = '/content/drive/MyDrive/Split_data_CNN/validation/Bengin cases/'\n",
        "\n",
        "MALIGNANT_SOURCE_DIR = '/content/drive/MyDrive/Data/Malignant cases/'\n",
        "TRAINING_MALIGNANT_DIR = '/content/drive/MyDrive/Split_data_CNN/train/Malignant cases/'\n",
        "VALID_MALIGNANT_DIR = '/content/drive/MyDrive/Split_data_CNN/validation/Malignant cases/'"
      ],
      "metadata": {
        "id": "l8HZg_Jywqqx"
      },
      "execution_count": 22,
      "outputs": []
    },
    {
      "cell_type": "code",
      "source": [
        "import os\n",
        "import random\n",
        "from shutil import copyfile\n",
        "\n",
        "split_size = .85\n",
        "\n",
        "split_data(BENGIN_SOURCE_DIR, TRAINING_BENGIN_DIR, VALID_BENGIN_DIR, split_size)\n",
        "split_data(MALIGNANT_SOURCE_DIR, TRAINING_MALIGNANT_DIR, VALID_MALIGNANT_DIR, split_size)"
      ],
      "metadata": {
        "id": "m7O8BFB2xvwj"
      },
      "execution_count": 23,
      "outputs": []
    },
    {
      "cell_type": "code",
      "source": [
        "import matplotlib.pyplot as plt\n",
        "import seaborn as sns\n",
        "from matplotlib.image import imread\n",
        "import pathlib\n",
        "\n",
        "image_folder = ['Bengin cases', 'Malignant cases']\n",
        "nimgs = {}\n",
        "for i in image_folder:\n",
        "    nimages = len(os.listdir('/content/drive/MyDrive/Split_data_CNN/train/'+i+'/'))\n",
        "    nimgs[i]=nimages\n",
        "plt.figure(figsize=(9, 6))\n",
        "plt.bar(range(len(nimgs)), list(nimgs.values()), align='center')\n",
        "plt.xticks(range(len(nimgs)), list(nimgs.keys()))\n",
        "plt.title('Distribution of different classes in Training Dataset')\n",
        "plt.show()"
      ],
      "metadata": {
        "colab": {
          "base_uri": "https://localhost:8080/",
          "height": 390
        },
        "id": "BmcfQvAIy0I7",
        "outputId": "dca93a62-32fa-4a4c-d2fe-a10a5a32c0a9"
      },
      "execution_count": 24,
      "outputs": [
        {
          "output_type": "display_data",
          "data": {
            "text/plain": [
              "<Figure size 648x432 with 1 Axes>"
            ],
            "image/png": "[encoded data removed]"
          },
          "metadata": {
            "needs_background": "light"
          }
        }
      ]
    },
    {
      "cell_type": "code",
      "source": [
        "for i in ['Bengin cases', 'Malignant cases']:\n",
        "    print('Training {} images are: '.format(i)+str(len(os.listdir('/content/drive/MyDrive/Split_data_CNN/train/'+i+'/'))))"
      ],
      "metadata": {
        "colab": {
          "base_uri": "https://localhost:8080/"
        },
        "id": "R5nc0tXjzJ6_",
        "outputId": "dda2e7ab-5c84-4356-8875-91617d3b9f20"
      },
      "execution_count": 26,
      "outputs": [
        {
          "output_type": "stream",
          "name": "stdout",
          "text": [
            "Training Bengin cases images are: 808\n",
            "Training Malignant cases images are: 476\n"
          ]
        }
      ]
    },
    {
      "cell_type": "code",
      "source": [
        "for i in ['Bengin cases', 'Malignant cases']:\n",
        "    print('Testing {} images are: '.format(i)+str(len(os.listdir('/content/drive/MyDrive/Split_data_CNN/validation/'+i+'/'))))"
      ],
      "metadata": {
        "colab": {
          "base_uri": "https://localhost:8080/"
        },
        "id": "oyOP-nbJzY6s",
        "outputId": "f8e64cf9-5f6c-4044-ec84-6ee603287290"
      },
      "execution_count": 27,
      "outputs": [
        {
          "output_type": "stream",
          "name": "stdout",
          "text": [
            "Testing Bengin cases images are: 143\n",
            "Testing Malignant cases images are: 85\n"
          ]
        }
      ]
    },
    {
      "cell_type": "code",
      "source": [
        "import matplotlib.pyplot as plt\n",
        "import seaborn as sns\n",
        "from matplotlib.image import imread\n",
        "import pathlib\n",
        "\n",
        "image_folder = ['Bengin cases', 'Malignant cases']\n",
        "nimgs = {}\n",
        "for i in image_folder:\n",
        "    nimages = len(os.listdir('/content/drive/MyDrive/Split_data_CNN/validation/'+i+'/'))\n",
        "    nimgs[i]=nimages\n",
        "plt.figure(figsize=(9, 6))\n",
        "plt.bar(range(len(nimgs)), list(nimgs.values()), align='center')\n",
        "plt.xticks(range(len(nimgs)), list(nimgs.keys()))\n",
        "plt.title('Distribution of different classes in Testing Dataset')\n",
        "plt.show()"
      ],
      "metadata": {
        "colab": {
          "base_uri": "https://localhost:8080/",
          "height": 390
        },
        "id": "UdA9udbizh1q",
        "outputId": "eab788d4-e78a-4070-abdf-81ce90f7920f"
      },
      "execution_count": 28,
      "outputs": [
        {
          "output_type": "display_data",
          "data": {
            "text/plain": [
              "<Figure size 648x432 with 1 Axes>"
            ],
            "image/png": "[encoded data removed]"
          },
          "metadata": {
            "needs_background": "light"
          }
        }
      ]
    },
    {
      "cell_type": "code",
      "source": [
        "!pip install tensorflow==2.7.0"
      ],
      "metadata": {
        "id": "ItCCLWJJ-sHe"
      },
      "execution_count": null,
      "outputs": []
    },
    {
      "cell_type": "code",
      "source": [
        "import tensorflow as tf\n",
        "from tensorflow import keras\n",
        "from tensorflow.keras import layers\n",
        "from keras.models import sequential\n",
        "from tensorflow.keras.layers import Dense\n",
        "from keras.layers import Convolution2D\n",
        "from keras.layers import MaxPooling2D\n",
        "from keras.layers import Dropout\n",
        "from keras.layers import Flatten"
      ],
      "metadata": {
        "id": "ZtR9alxv-6OX"
      },
      "execution_count": 30,
      "outputs": []
    },
    {
      "cell_type": "code",
      "source": [
        "import matplotlib.pyplot as plt\n",
        "import numpy as np\n",
        "from keras.preprocessing.image import ImageDataGenerator\n",
        "from keras.preprocessing.image import ImageDataGenerator, array_to_img, img_to_array, load_img"
      ],
      "metadata": {
        "id": "X6EHUZzi_FG-"
      },
      "execution_count": 31,
      "outputs": []
    },
    {
      "cell_type": "code",
      "source": [
        "train_datagen = ImageDataGenerator(rescale=1./255,\n",
        "                                   rotation_range=8,\n",
        "                                   zoom_range=0.15,\n",
        "                                   width_shift_range=0.15,\n",
        "                                   height_shift_range=0.15,\n",
        "                                   shear_range=0.10,\n",
        "                                   horizontal_flip=True,\n",
        "                                   brightness_range=[0.8,1.2],\n",
        "                                   channel_shift_range=0.15,\n",
        "                                   fill_mode=\"nearest\")"
      ],
      "metadata": {
        "id": "HRew2S_w_JyO"
      },
      "execution_count": 32,
      "outputs": []
    },
    {
      "cell_type": "code",
      "source": [
        "test_datagen = ImageDataGenerator(rescale=1./255)"
      ],
      "metadata": {
        "id": "DujTJAre_WGK"
      },
      "execution_count": 33,
      "outputs": []
    },
    {
      "cell_type": "code",
      "source": [
        "x_train = train_datagen.flow_from_directory('/content/drive/MyDrive/Split_data_CNN/train',target_size=(224,224),batch_size=32,class_mode='binary')\n",
        "\n",
        "x_test = test_datagen.flow_from_directory('/content/drive/MyDrive/Split_data_CNN/validation',target_size=(224,224),batch_size=32,class_mode='binary',shuffle =False)\n",
        "\n",
        "print(x_train.class_indices)\n",
        "print(x_test.class_indices)"
      ],
      "metadata": {
        "colab": {
          "base_uri": "https://localhost:8080/"
        },
        "id": "tYCIoZrm_ayE",
        "outputId": "dabaa03f-6cab-4573-bb7e-97124066497a"
      },
      "execution_count": 34,
      "outputs": [
        {
          "output_type": "stream",
          "name": "stdout",
          "text": [
            "Found 1284 images belonging to 2 classes.\n",
            "Found 228 images belonging to 2 classes.\n",
            "{'Bengin cases': 0, 'Malignant cases': 1}\n",
            "{'Bengin cases': 0, 'Malignant cases': 1}\n"
          ]
        }
      ]
    },
    {
      "cell_type": "code",
      "source": [
        "from keras.layers.convolutional import Convolution2DTranspose\n",
        "from keras.models import Sequential\n",
        "from IPython.core import history\n",
        "from tensorflow.python import metrics"
      ],
      "metadata": {
        "id": "Q4ydXZ5e_2PN"
      },
      "execution_count": 35,
      "outputs": []
    },
    {
      "cell_type": "code",
      "source": [
        "\n",
        "model = Sequential()\n",
        "model.add(Convolution2D (32,(3,3),input_shape=(224,224,3),activation='relu'))\n",
        "model.add(MaxPooling2D (pool_size=(3,3)))\n",
        "model.add(Dropout(0.25))\n",
        "model.add(Convolution2D(64,(3,3),activation='relu'))\n",
        "model.add(Convolution2D(64,(3,3),activation='relu'))\n",
        "\n",
        "\n",
        "model.add(MaxPooling2D (pool_size=(2,2)))\n",
        "model.add(Dropout(0.25))\n",
        "model.add(Convolution2D(128,(3,3),activation='relu'))\n",
        "model.add(Convolution2D(128,(3,3),activation='relu'))\n",
        "model.add(MaxPooling2D (pool_size=(2,2)))\n",
        "model.add(Dropout(0.25))\n",
        "\n",
        "\n",
        "model.add(Flatten())\n",
        "model.add(Dense(units=512,activation='relu'))\n",
        "model.add(Dropout(0.5))\n",
        "model.add(Dense(units=128,activation='relu'))\n",
        "model.add(Dense(1,activation=\"sigmoid\"))\n",
        "\n",
        "model.summary()"
      ],
      "metadata": {
        "colab": {
          "base_uri": "https://localhost:8080/"
        },
        "id": "Mt9Fiu3gAUga",
        "outputId": "3f76dbd9-4326-4112-9aee-dc0368b96b71"
      },
      "execution_count": 36,
      "outputs": [
        {
          "output_type": "stream",
          "name": "stdout",
          "text": [
            "Model: \"sequential\"\n",
            "_________________________________________________________________\n",
            " Layer (type)                Output Shape              Param #   \n",
            "=================================================================\n",
            " conv2d (Conv2D)             (None, 222, 222, 32)      896       \n",
            "                                                                 \n",
            " max_pooling2d (MaxPooling2D  (None, 74, 74, 32)       0         \n",
            " )                                                               \n",
            "                                                                 \n",
            " dropout (Dropout)           (None, 74, 74, 32)        0         \n",
            "                                                                 \n",
            " conv2d_1 (Conv2D)           (None, 72, 72, 64)        18496     \n",
            "                                                                 \n",
            " conv2d_2 (Conv2D)           (None, 70, 70, 64)        36928     \n",
            "                                                                 \n",
            " max_pooling2d_1 (MaxPooling  (None, 35, 35, 64)       0         \n",
            " 2D)                                                             \n",
            "                                                                 \n",
            " dropout_1 (Dropout)         (None, 35, 35, 64)        0         \n",
            "                                                                 \n",
            " conv2d_3 (Conv2D)           (None, 33, 33, 128)       73856     \n",
            "                                                                 \n",
            " conv2d_4 (Conv2D)           (None, 31, 31, 128)       147584    \n",
            "                                                                 \n",
            " max_pooling2d_2 (MaxPooling  (None, 15, 15, 128)      0         \n",
            " 2D)                                                             \n",
            "                                                                 \n",
            " dropout_2 (Dropout)         (None, 15, 15, 128)       0         \n",
            "                                                                 \n",
            " flatten (Flatten)           (None, 28800)             0         \n",
            "                                                                 \n",
            " dense (Dense)               (None, 512)               14746112  \n",
            "                                                                 \n",
            " dropout_3 (Dropout)         (None, 512)               0         \n",
            "                                                                 \n",
            " dense_1 (Dense)             (None, 128)               65664     \n",
            "                                                                 \n",
            " dense_2 (Dense)             (None, 1)                 129       \n",
            "                                                                 \n",
            "=================================================================\n",
            "Total params: 15,089,665\n",
            "Trainable params: 15,089,665\n",
            "Non-trainable params: 0\n",
            "_________________________________________________________________\n"
          ]
        }
      ]
    },
    {
      "cell_type": "code",
      "source": [
        "model.compile(loss=\"binary_crossentropy\",optimizer='adam',metrics=['accuracy'])"
      ],
      "metadata": {
        "id": "k_roQQ9bAoer"
      },
      "execution_count": 37,
      "outputs": []
    },
    {
      "cell_type": "code",
      "source": [
        "TRAIN_COUNT =len(x_train.filepaths)\n",
        "TEST_COUNT=len(x_test.filepaths)\n",
        "TRAIN_STEPS_PER_EPOCH= round(TRAIN_COUNT/32)\n",
        "VAL_STEPS_PER_EPOCH = round(TEST_COUNT/32)"
      ],
      "metadata": {
        "id": "V4hpj5sP91r5"
      },
      "execution_count": 38,
      "outputs": []
    },
    {
      "cell_type": "code",
      "source": [
        "print(f\"TRAIN_STEPS_PER_EPOCH:{TRAIN_STEPS_PER_EPOCH}\")\n",
        "print(f\"VAL_STEPS_PER_EPOCH:{VAL_STEPS_PER_EPOCH}\")"
      ],
      "metadata": {
        "id": "BfsE7Pn-92wo",
        "colab": {
          "base_uri": "https://localhost:8080/"
        },
        "outputId": "a0ce6b78-2704-4935-ea09-29ef9b8e773b"
      },
      "execution_count": 39,
      "outputs": [
        {
          "output_type": "stream",
          "name": "stdout",
          "text": [
            "TRAIN_STEPS_PER_EPOCH:40\n",
            "VAL_STEPS_PER_EPOCH:7\n"
          ]
        }
      ]
    },
    {
      "cell_type": "code",
      "source": [
        "from tensorflow.python.keras.callbacks import EarlyStopping,ModelCheckpoint\n",
        "EARLY_STOP_PATIENCE =5"
      ],
      "metadata": {
        "id": "5-6S2U9H96-4"
      },
      "execution_count": 40,
      "outputs": []
    },
    {
      "cell_type": "code",
      "source": [
        "cb_early_stopper =EarlyStopping(monitor='val_losss',patience=EARLY_STOP_PATIENCE)\n",
        "cb_checkpointer = ModelCheckpoint(filepath='FINAL_CNN.hdf5',monitor='val_loss',save_best_only=True,mode='auto')\n",
        "callbacks=[cb_checkpointer,cb_early_stopper]\n",
        "history=model.fit_generator(x_train,steps_per_epoch=TRAIN_STEPS_PER_EPOCH,epochs=20,\n",
        "                            validation_data=x_test,validation_steps=VAL_STEPS_PER_EPOCH)"
      ],
      "metadata": {
        "id": "Qx38Wxov9-YZ",
        "colab": {
          "base_uri": "https://localhost:8080/"
        },
        "outputId": "4e8c5583-dea1-4c3d-e737-96f3267b89aa"
      },
      "execution_count": 41,
      "outputs": [
        {
          "output_type": "stream",
          "name": "stdout",
          "text": [
            "Epoch 1/20\n",
            "40/40 [==============================] - 35s 668ms/step - loss: 0.7280 - accuracy: 0.6174 - val_loss: 0.6621 - val_accuracy: 0.6384\n",
            "Epoch 2/20\n",
            "40/40 [==============================] - 28s 690ms/step - loss: 0.6426 - accuracy: 0.6286 - val_loss: 0.5535 - val_accuracy: 0.6384\n",
            "Epoch 3/20\n",
            "40/40 [==============================] - 25s 636ms/step - loss: 0.5422 - accuracy: 0.6837 - val_loss: 0.2518 - val_accuracy: 0.9018\n",
            "Epoch 4/20\n",
            "40/40 [==============================] - 26s 638ms/step - loss: 0.4790 - accuracy: 0.7668 - val_loss: 0.2593 - val_accuracy: 0.9107\n",
            "Epoch 5/20\n",
            "40/40 [==============================] - 26s 639ms/step - loss: 0.4236 - accuracy: 0.8011 - val_loss: 0.3208 - val_accuracy: 0.9107\n",
            "Epoch 6/20\n",
            "40/40 [==============================] - 26s 640ms/step - loss: 0.4089 - accuracy: 0.8027 - val_loss: 0.3458 - val_accuracy: 0.9018\n",
            "Epoch 7/20\n",
            "40/40 [==============================] - 30s 759ms/step - loss: 0.4517 - accuracy: 0.7971 - val_loss: 0.3150 - val_accuracy: 0.8839\n",
            "Epoch 8/20\n",
            "40/40 [==============================] - 26s 639ms/step - loss: 0.4014 - accuracy: 0.8243 - val_loss: 0.3667 - val_accuracy: 0.9018\n",
            "Epoch 9/20\n",
            "40/40 [==============================] - 26s 644ms/step - loss: 0.3242 - accuracy: 0.8682 - val_loss: 1.2177 - val_accuracy: 0.9107\n",
            "Epoch 10/20\n",
            "40/40 [==============================] - 26s 647ms/step - loss: 0.2433 - accuracy: 0.9097 - val_loss: 1.6616 - val_accuracy: 0.9107\n",
            "Epoch 11/20\n",
            "40/40 [==============================] - 26s 648ms/step - loss: 0.2252 - accuracy: 0.9137 - val_loss: 1.3289 - val_accuracy: 0.9107\n",
            "Epoch 12/20\n",
            "40/40 [==============================] - 26s 641ms/step - loss: 0.1645 - accuracy: 0.9441 - val_loss: 0.8221 - val_accuracy: 0.9107\n",
            "Epoch 13/20\n",
            "40/40 [==============================] - 26s 639ms/step - loss: 0.1377 - accuracy: 0.9553 - val_loss: 0.7057 - val_accuracy: 0.9107\n",
            "Epoch 14/20\n",
            "40/40 [==============================] - 26s 643ms/step - loss: 0.1489 - accuracy: 0.9489 - val_loss: 1.4065 - val_accuracy: 0.9107\n",
            "Epoch 15/20\n",
            "40/40 [==============================] - 27s 653ms/step - loss: 0.1279 - accuracy: 0.9569 - val_loss: 0.5690 - val_accuracy: 0.9107\n",
            "Epoch 16/20\n",
            "40/40 [==============================] - 25s 636ms/step - loss: 0.1804 - accuracy: 0.9337 - val_loss: 0.2661 - val_accuracy: 0.9107\n",
            "Epoch 17/20\n",
            "40/40 [==============================] - 25s 635ms/step - loss: 0.2422 - accuracy: 0.9018 - val_loss: 1.1715 - val_accuracy: 0.9107\n",
            "Epoch 18/20\n",
            "40/40 [==============================] - 26s 638ms/step - loss: 0.1299 - accuracy: 0.9513 - val_loss: 1.8951 - val_accuracy: 0.9018\n",
            "Epoch 19/20\n",
            "40/40 [==============================] - 26s 639ms/step - loss: 0.1572 - accuracy: 0.9417 - val_loss: 1.6597 - val_accuracy: 0.9107\n",
            "Epoch 20/20\n",
            "40/40 [==============================] - 25s 628ms/step - loss: 0.1427 - accuracy: 0.9457 - val_loss: 2.3559 - val_accuracy: 0.9107\n"
          ]
        }
      ]
    },
    {
      "cell_type": "code",
      "source": [
        "history=model.fit_generator(x_train,steps_per_epoch=24,epochs=30,validation_data=x_test,validation_steps=5)"
      ],
      "metadata": {
        "id": "N8tTEN5fBOeR"
      },
      "execution_count": null,
      "outputs": []
    },
    {
      "cell_type": "code",
      "source": [
        "model.save(\"FINAL_CNN.hdf5\")"
      ],
      "metadata": {
        "id": "iDVdPDQYRECE"
      },
      "execution_count": 42,
      "outputs": []
    },
    {
      "cell_type": "code",
      "source": [
        "\n",
        "keys=history.history.keys()\n",
        "print(keys)\n"
      ],
      "metadata": {
        "colab": {
          "base_uri": "https://localhost:8080/"
        },
        "id": "K8hi6iEPRQpT",
        "outputId": "f305f9ef-0ce2-4e61-96ce-3c8e96dcbed5"
      },
      "execution_count": 43,
      "outputs": [
        {
          "output_type": "stream",
          "name": "stdout",
          "text": [
            "dict_keys(['loss', 'accuracy', 'val_loss', 'val_accuracy'])\n"
          ]
        }
      ]
    },
    {
      "cell_type": "code",
      "source": [
        "plt.figure(1,figsize=(15,8))\n",
        "plt.subplot(221)\n",
        "plt.plot(history.history['accuracy'])\n",
        "plt.plot(history.history['val_accuracy'])\n",
        "plt.title('Model_Accuracy')\n",
        "plt.ylabel('Accuracy')\n",
        "plt.xlabel('Epoch')\n",
        "plt.legend(['train','valid'])"
      ],
      "metadata": {
        "colab": {
          "base_uri": "https://localhost:8080/",
          "height": 293
        },
        "id": "wodkVlTlRWO0",
        "outputId": "0c7eaa5b-9225-4e7d-d682-91a17267b010"
      },
      "execution_count": 44,
      "outputs": [
        {
          "output_type": "execute_result",
          "data": {
            "text/plain": [
              "<matplotlib.legend.Legend at 0x7f216660c2e0>"
            ]
          },
          "metadata": {},
          "execution_count": 44
        },
        {
          "output_type": "display_data",
          "data": {
            "text/plain": [
              "<Figure size 1080x576 with 1 Axes>"
            ],
            "image/png": "[encoded data removed]"
          },
          "metadata": {
            "needs_background": "light"
          }
        }
      ]
    },
    {
      "cell_type": "code",
      "source": [
        "plt.figure(1,figsize=(15,8))\n",
        "plt.subplot(222)\n",
        "plt.plot(history.history['loss'])\n",
        "plt.plot(history.history['val_loss'])\n",
        "plt.title('Model_loss')\n",
        "plt.ylabel('loss')\n",
        "plt.xlabel('Epoch')\n",
        "plt.legend(['train','valid'])\n",
        "plt.show()"
      ],
      "metadata": {
        "colab": {
          "base_uri": "https://localhost:8080/",
          "height": 276
        },
        "id": "zknhQOhvR1PG",
        "outputId": "0412b102-f8fe-45a3-cb78-22339d855546"
      },
      "execution_count": 45,
      "outputs": [
        {
          "output_type": "display_data",
          "data": {
            "text/plain": [
              "<Figure size 1080x576 with 1 Axes>"
            ],
            "image/png": "[encoded data removed]"
          },
          "metadata": {
            "needs_background": "light"
          }
        }
      ]
    },
    {
      "cell_type": "code",
      "source": [
        "\n",
        "from sklearn.metrics import confusion_matrix,classification_report\n",
        "from sklearn.metrics import accuracy_score\n",
        "import seaborn as sns\n",
        "from sklearn.metrics import confusion_matrix"
      ],
      "metadata": {
        "id": "cy1ZjneQSJ7h"
      },
      "execution_count": 46,
      "outputs": []
    },
    {
      "cell_type": "code",
      "source": [
        "y_pred=model.predict(x_test)"
      ],
      "metadata": {
        "id": "qpWjVsBhSUhe"
      },
      "execution_count": 47,
      "outputs": []
    },
    {
      "cell_type": "code",
      "source": [
        "from sklearn.metrics._plot.confusion_matrix import ConfusionMatrixDisplay\n",
        "\n",
        "\n",
        "threshold=0.5\n",
        "y_pred_threshold=[(1 if val>threshold else 0) for val in y_pred]\n",
        "y_true=x_test.labels.tolist()\n",
        "print(confusion_matrix(y_true,y_pred_threshold))"
      ],
      "metadata": {
        "colab": {
          "base_uri": "https://localhost:8080/"
        },
        "id": "1Yy8cUbFSsAe",
        "outputId": "9bdb607c-155f-415c-cffb-0e19dfb5b257"
      },
      "execution_count": 48,
      "outputs": [
        {
          "output_type": "stream",
          "name": "stdout",
          "text": [
            "[[123  20]\n",
            " [  0  85]]\n"
          ]
        }
      ]
    },
    {
      "cell_type": "code",
      "source": [
        "\n",
        "print(accuracy_score(y_true,y_pred_threshold))"
      ],
      "metadata": {
        "colab": {
          "base_uri": "https://localhost:8080/"
        },
        "id": "1rJ3-IaGV-F1",
        "outputId": "26d0ffea-280c-4878-8887-61281ad95a1b"
      },
      "execution_count": 49,
      "outputs": [
        {
          "output_type": "stream",
          "name": "stdout",
          "text": [
            "0.9122807017543859\n"
          ]
        }
      ]
    },
    {
      "cell_type": "code",
      "source": [
        "\n",
        "sns.heatmap(confusion_matrix(y_true,y_pred_threshold),annot=True)"
      ],
      "metadata": {
        "colab": {
          "base_uri": "https://localhost:8080/",
          "height": 282
        },
        "id": "-URqT_TkWDd5",
        "outputId": "cd7da57e-d6d2-47b4-e0c8-964ebde045ba"
      },
      "execution_count": 50,
      "outputs": [
        {
          "output_type": "execute_result",
          "data": {
            "text/plain": [
              "<matplotlib.axes._subplots.AxesSubplot at 0x7f21ca2f3ac0>"
            ]
          },
          "metadata": {},
          "execution_count": 50
        },
        {
          "output_type": "display_data",
          "data": {
            "text/plain": [
              "<Figure size 432x288 with 2 Axes>"
            ],
            "image/png": "[encoded data removed]"
          },
          "metadata": {
            "needs_background": "light"
          }
        }
      ]
    },
    {
      "cell_type": "code",
      "source": [
        "\n",
        "from tensorflow import keras\n",
        "from tensorflow.keras import layers\n",
        "from keras.models import load_model\n",
        "model=load_model('/content/FINAL_CNN.hdf5')"
      ],
      "metadata": {
        "id": "Lp4uw4B6WVTM"
      },
      "execution_count": 51,
      "outputs": []
    },
    {
      "cell_type": "code",
      "source": [
        "from keras.preprocessing import image\n",
        "import cv2\n",
        "import numpy as np\n",
        "import PIL\n",
        "from PIL import Image"
      ],
      "metadata": {
        "id": "-ZxTbNS_Wk29"
      },
      "execution_count": 52,
      "outputs": []
    },
    {
      "cell_type": "code",
      "source": [
        "\n",
        "img=image.load_img('/content/drive/MyDrive/Split_data_CNN/train/Malignant cases/Malignant case (117).jpg',\n",
        "                   color_mode='rgb',target_size=(224,224))"
      ],
      "metadata": {
        "id": "7SBJrXzRW6uT"
      },
      "execution_count": 188,
      "outputs": []
    },
    {
      "cell_type": "code",
      "source": [
        "x=image.img_to_array(img)\n",
        "x=np.expand_dims(x,axis=0)\n",
        "x.shape"
      ],
      "metadata": {
        "id": "X3orPt5qXKVl",
        "colab": {
          "base_uri": "https://localhost:8080/"
        },
        "outputId": "a031a96b-4473-4680-d7e4-9ae9db9048b7"
      },
      "execution_count": 189,
      "outputs": [
        {
          "output_type": "execute_result",
          "data": {
            "text/plain": [
              "(1, 224, 224, 3)"
            ]
          },
          "metadata": {},
          "execution_count": 189
        }
      ]
    },
    {
      "cell_type": "code",
      "source": [
        "pred=model.predict(x)\n",
        "pred"
      ],
      "metadata": {
        "id": "4n9Fg7_lXR9g",
        "colab": {
          "base_uri": "https://localhost:8080/"
        },
        "outputId": "9a6953f9-35b2-4266-ccbc-bcef62af9ce9"
      },
      "execution_count": 190,
      "outputs": [
        {
          "output_type": "execute_result",
          "data": {
            "text/plain": [
              "array([[1.]], dtype=float32)"
            ]
          },
          "metadata": {},
          "execution_count": 190
        }
      ]
    },
    {
      "cell_type": "code",
      "source": [
        "class_names=[\"Bengin_case\",\"Malignant_case\",]\n",
        "prediction=class_names[int(pred[0][0])]\n",
        "print(pred[0][0])\n",
        "print(prediction)"
      ],
      "metadata": {
        "id": "HFMjJTNuXZ3F",
        "colab": {
          "base_uri": "https://localhost:8080/"
        },
        "outputId": "114a6b4c-44da-4908-933f-04066b01e083"
      },
      "execution_count": 191,
      "outputs": [
        {
          "output_type": "stream",
          "name": "stdout",
          "text": [
            "1.0\n",
            "Malignant_case\n"
          ]
        }
      ]
    },
    {
      "cell_type": "code",
      "source": [],
      "metadata": {
        "id": "wukhkIUMYTiB"
      },
      "execution_count": null,
      "outputs": []
    }
  ]
}