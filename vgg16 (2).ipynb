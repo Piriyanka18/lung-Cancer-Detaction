{
  "nbformat": 4,
  "nbformat_minor": 0,
  "metadata": {
    "colab": {
      "provenance": []
    },
    "kernelspec": {
      "name": "python3",
      "display_name": "Python 3"
    },
    "language_info": {
      "name": "python"
    },
    "accelerator": "GPU",
    "gpuClass": "standard"
  },
  "cells": [
    {
      "cell_type": "code",
      "execution_count": null,
      "metadata": {
        "id": "_h5kyvHt7jm5"
      },
      "outputs": [],
      "source": [
        "import os"
      ]
    },
    {
      "cell_type": "code",
      "source": [
        "from google.colab import drive\n",
        "drive.mount('/content/drive')"
      ],
      "metadata": {
        "colab": {
          "base_uri": "https://localhost:8080/"
        },
        "id": "I9pLRPw2Hacz",
        "outputId": "693e4ab9-86b0-40b0-a84d-15508d6f6a82"
      },
      "execution_count": null,
      "outputs": [
        {
          "output_type": "stream",
          "name": "stdout",
          "text": [
            "Drive already mounted at /content/drive; to attempt to forcibly remount, call drive.mount(\"/content/drive\", force_remount=True).\n"
          ]
        }
      ]
    },
    {
      "cell_type": "markdown",
      "source": [
        "**Exploratory Data Analysis (EDA)**"
      ],
      "metadata": {
        "id": "wRLdpNOC79pr"
      }
    },
    {
      "cell_type": "code",
      "source": [
        "import warnings\n",
        "warnings.filterwarnings('ignore')\n",
        "# Get all the paths\n",
        "data_dir_list = os.listdir('/content/drive/MyDrive/R_Data')\n",
        "print(data_dir_list)\n",
        "path, dirs, files = next(os.walk(\"/content/drive/MyDrive/R_Data\"))\n",
        "file_count = len(files)\n",
        "#print(file_count)"
      ],
      "metadata": {
        "colab": {
          "base_uri": "https://localhost:8080/"
        },
        "id": "j15W3RO-76kS",
        "outputId": "bda6c45f-da35-4711-a233-72976f18f081"
      },
      "execution_count": null,
      "outputs": [
        {
          "output_type": "stream",
          "name": "stdout",
          "text": [
            "['Split_data_inception_V3', 'Inception_v3.hdf5', 'Split_data_CNN', 'Split_data_inception_V3_1', 'Split_data_vgg16', 'Bengin cases', 'Malignant cases']\n"
          ]
        }
      ]
    },
    {
      "cell_type": "code",
      "source": [
        "# Make new base directory\n",
        "original_dataset_dir = '/content/drive/MyDrive/R_Data'\n",
        "base_dir = '/content/drive/MyDrive/R_Data/Split_data_vgg16_o/'\n",
        "os.mkdir(base_dir)"
      ],
      "metadata": {
        "id": "HFOrxU0o8GcZ"
      },
      "execution_count": null,
      "outputs": []
    },
    {
      "cell_type": "code",
      "source": [
        "#create two folders (train and validation)\n",
        "train_dir = os.path.join(base_dir, 'train')\n",
        "os.mkdir(train_dir)\n",
        "\n",
        "validation_dir = os.path.join(base_dir, 'validation')\n",
        "os.mkdir(validation_dir)"
      ],
      "metadata": {
        "id": "SKI9o5GN8OqQ"
      },
      "execution_count": null,
      "outputs": []
    },
    {
      "cell_type": "code",
      "source": [
        "#Under train folder create two folders \n",
        "\n",
        "train_cloud_dir = os.path.join(train_dir, 'Bengin cases')\n",
        "os.mkdir(train_cloud_dir)\n",
        "\n",
        "train_foggy_dir = os.path.join(train_dir, 'Malignant cases')\n",
        "os.mkdir(train_foggy_dir)"
      ],
      "metadata": {
        "id": "02uNNBY08Udy"
      },
      "execution_count": null,
      "outputs": []
    },
    {
      "cell_type": "code",
      "source": [
        "#Under validation folder create five folders \n",
        "\n",
        "validation_cloud_dir = os.path.join(validation_dir, 'Bengin cases')\n",
        "os.mkdir(validation_cloud_dir)\n",
        "\n",
        "validation_foggy_dir = os.path.join(validation_dir, 'Malignant cases')\n",
        "os.mkdir(validation_foggy_dir)"
      ],
      "metadata": {
        "id": "qYnw-Ntl8WI7"
      },
      "execution_count": null,
      "outputs": []
    },
    {
      "cell_type": "code",
      "source": [
        "import os\n",
        "import random\n",
        "from shutil import copyfile"
      ],
      "metadata": {
        "id": "db-qcBVz8aBb"
      },
      "execution_count": null,
      "outputs": []
    },
    {
      "cell_type": "code",
      "source": [
        "def split_data(SOURCE, TRAINING, VALIDATION, SPLIT_SIZE):\n",
        "    files = []\n",
        "    for filename in os.listdir(SOURCE):\n",
        "        file = SOURCE + filename\n",
        "        if os.path.getsize(file) > 0:\n",
        "            files.append(filename)\n",
        "        else:\n",
        "            print(filename + \" is zero length, so ignoring.\")\n",
        "\n",
        "    training_length = int(len(files) * SPLIT_SIZE)\n",
        "    valid_length = int(len(files) - training_length)\n",
        "    shuffled_set = random.sample(files, len(files))\n",
        "    training_set = shuffled_set[0:training_length]\n",
        "    valid_set = shuffled_set[training_length:]\n",
        "\n",
        "    for filename in training_set:\n",
        "        this_file = SOURCE + filename\n",
        "        destination = TRAINING + filename\n",
        "        copyfile(this_file, destination)\n",
        "\n",
        "    for filename in valid_set:\n",
        "        this_file = SOURCE + filename\n",
        "        destination = VALIDATION + filename\n",
        "        copyfile(this_file, destination)"
      ],
      "metadata": {
        "id": "kB2X2NqB8d_6"
      },
      "execution_count": null,
      "outputs": []
    },
    {
      "cell_type": "code",
      "source": [
        "BENGIN_SOURCE_DIR = '/content/drive/MyDrive/R_Data/Bengin cases/'\n",
        "TRAINING_BENGIN_DIR = '/content/drive/MyDrive/R_Data/Split_data_vgg16_o/train/Bengin cases/'\n",
        "VALID_BENGIN_DIR = '/content/drive/MyDrive/R_Data/Split_data_vgg16_o/validation/Bengin cases/'\n",
        "\n",
        "MALIGNANT_SOURCE_DIR = '/content/drive/MyDrive/R_Data/Malignant cases/'\n",
        "TRAINING_MALIGNANT_DIR = '/content/drive/MyDrive/R_Data/Split_data_vgg16_o/train/Malignant cases/'\n",
        "VALID_MALIGNANT_DIR = '/content/drive/MyDrive/R_Data/Split_data_vgg16_o/validation/Malignant cases/'"
      ],
      "metadata": {
        "id": "cyhtY8a88hz6"
      },
      "execution_count": null,
      "outputs": []
    },
    {
      "cell_type": "code",
      "source": [
        "import os\n",
        "import random\n",
        "from shutil import copyfile\n",
        "\n",
        "split_size = .70\n",
        "\n",
        "split_data(BENGIN_SOURCE_DIR, TRAINING_BENGIN_DIR, VALID_BENGIN_DIR, split_size)\n",
        "split_data(MALIGNANT_SOURCE_DIR, TRAINING_MALIGNANT_DIR, VALID_MALIGNANT_DIR, split_size)"
      ],
      "metadata": {
        "id": "YpoLucxK8zjM"
      },
      "execution_count": null,
      "outputs": []
    },
    {
      "cell_type": "code",
      "source": [
        "import matplotlib.pyplot as plt\n",
        "import seaborn as sns\n",
        "from matplotlib.image import imread\n",
        "import pathlib\n",
        "\n",
        "image_folder = ['Bengin cases', 'Malignant cases']\n",
        "nimgs = {}\n",
        "for i in image_folder:\n",
        "    nimages = len(os.listdir('/content/drive/MyDrive/R_Data/Split_data_vgg16_o/train/'+i+'/'))\n",
        "    nimgs[i]=nimages\n",
        "plt.figure(figsize=(9, 6))\n",
        "plt.bar(range(len(nimgs)), list(nimgs.values()), align='center')\n",
        "plt.xticks(range(len(nimgs)), list(nimgs.keys()))\n",
        "plt.title('Distribution of different classes in Training Dataset')\n",
        "plt.show()"
      ],
      "metadata": {
        "colab": {
          "base_uri": "https://localhost:8080/",
          "height": 390
        },
        "id": "Xw2YKL2O8_Ka",
        "outputId": "822b83c6-21c9-4a2d-8d36-0b2ad3b1e422"
      },
      "execution_count": null,
      "outputs": [
        {
          "output_type": "display_data",
          "data": {
            "text/plain": [
              "<Figure size 648x432 with 1 Axes>"
            ],
            "image/png": "[encoded data removed]"
          },
          "metadata": {
            "needs_background": "light"
          }
        }
      ]
    },
    {
      "cell_type": "code",
      "source": [
        "for i in ['Bengin cases', 'Malignant cases']:\n",
        "    print('Training {} images are: '.format(i)+str(len(os.listdir('/content/drive/MyDrive/R_Data/Split_data_vgg16_o/train/'+i+'/'))))"
      ],
      "metadata": {
        "colab": {
          "base_uri": "https://localhost:8080/"
        },
        "id": "-rb98gJe-XKr",
        "outputId": "10021ec7-dd22-422e-bb4b-b3d3544b31ee"
      },
      "execution_count": null,
      "outputs": [
        {
          "output_type": "stream",
          "name": "stdout",
          "text": [
            "Training Bengin cases images are: 665\n",
            "Training Malignant cases images are: 655\n"
          ]
        }
      ]
    },
    {
      "cell_type": "code",
      "source": [
        "for i in ['Bengin cases', 'Malignant cases']:\n",
        "    print('Testing {} images are: '.format(i)+str(len(os.listdir('/content/drive/MyDrive/R_Data/Split_data_vgg16_o/validation/'+i+'/'))))"
      ],
      "metadata": {
        "colab": {
          "base_uri": "https://localhost:8080/"
        },
        "id": "CXKhr8YB-gMC",
        "outputId": "c853a346-4307-4a55-f036-83067ce9f657"
      },
      "execution_count": null,
      "outputs": [
        {
          "output_type": "stream",
          "name": "stdout",
          "text": [
            "Testing Bengin cases images are: 286\n",
            "Testing Malignant cases images are: 281\n"
          ]
        }
      ]
    },
    {
      "cell_type": "code",
      "source": [
        "import matplotlib.pyplot as plt\n",
        "import seaborn as sns\n",
        "from matplotlib.image import imread\n",
        "import pathlib\n",
        "\n",
        "image_folder = ['Bengin cases', 'Malignant cases']\n",
        "nimgs = {}\n",
        "for i in image_folder:\n",
        "    nimages = len(os.listdir('/content/drive/MyDrive/R_Data/Split_data_vgg16_o/validation/'+i+'/'))\n",
        "    nimgs[i]=nimages\n",
        "plt.figure(figsize=(9, 6))\n",
        "plt.bar(range(len(nimgs)), list(nimgs.values()), align='center')\n",
        "plt.xticks(range(len(nimgs)), list(nimgs.keys()))\n",
        "plt.title('Distribution of different classes in Testing Dataset')\n",
        "plt.show()"
      ],
      "metadata": {
        "colab": {
          "base_uri": "https://localhost:8080/",
          "height": 390
        },
        "id": "eJC9Wb3k-jTC",
        "outputId": "1b471759-cfd6-4efc-b3fc-60dfa5bfd376"
      },
      "execution_count": null,
      "outputs": [
        {
          "output_type": "display_data",
          "data": {
            "text/plain": [
              "<Figure size 648x432 with 1 Axes>"
            ],
            "image/png": "[encoded data removed]"
          },
          "metadata": {
            "needs_background": "light"
          }
        }
      ]
    },
    {
      "cell_type": "code",
      "source": [
        "!pip install tensorflow==2.7.0"
      ],
      "metadata": {
        "id": "ZWbM8nbQ_OwT"
      },
      "execution_count": null,
      "outputs": []
    },
    {
      "cell_type": "code",
      "source": [
        "import tensorflow as tf\n",
        "from tensorflow import keras\n",
        "from tensorflow.keras import layers\n",
        "from keras.models import sequential\n",
        "from tensorflow.keras.layers import Dense\n",
        "from keras.layers import Convolution2D\n",
        "from keras.layers import MaxPooling2D\n",
        "from keras.layers import Dropout\n",
        "from keras.layers import Flatten"
      ],
      "metadata": {
        "id": "ldePP1EX_-Vq"
      },
      "execution_count": null,
      "outputs": []
    },
    {
      "cell_type": "code",
      "source": [
        "import matplotlib.pyplot as plt\n",
        "import numpy as np\n",
        "from keras.preprocessing.image import ImageDataGenerator\n",
        "from keras.preprocessing.image import ImageDataGenerator, array_to_img, img_to_array, load_img"
      ],
      "metadata": {
        "id": "spsoB0t2APOb"
      },
      "execution_count": null,
      "outputs": []
    },
    {
      "cell_type": "code",
      "source": [
        "train_datagen = ImageDataGenerator(rescale=1./255,\n",
        "                                   rotation_range=8,\n",
        "                                   zoom_range=0.15,\n",
        "                                   width_shift_range=0.15,\n",
        "                                   height_shift_range=0.15,\n",
        "                                   shear_range=0.10,\n",
        "                                   horizontal_flip=True,\n",
        "                                   brightness_range=[0.8,1.2],\n",
        "                                   channel_shift_range=0.15,\n",
        "                                   fill_mode=\"nearest\")"
      ],
      "metadata": {
        "id": "mim2iDDWAQ36"
      },
      "execution_count": null,
      "outputs": []
    },
    {
      "cell_type": "code",
      "source": [
        "test_datagen = ImageDataGenerator(rescale=1./255)"
      ],
      "metadata": {
        "id": "pc9TYVuDAUwM"
      },
      "execution_count": null,
      "outputs": []
    },
    {
      "cell_type": "code",
      "source": [
        "x_train = train_datagen.flow_from_directory('/content/drive/MyDrive/R_Data/Split_data_vgg16_o/train',target_size=(224,224),batch_size=32,class_mode='binary')\n",
        "\n",
        "x_test = test_datagen.flow_from_directory('/content/drive/MyDrive/R_Data/Split_data_vgg16_o/validation',target_size=(224,224),batch_size=32,class_mode='binary')\n",
        "\n",
        "print(x_train.class_indices)\n",
        "print(x_test.class_indices)"
      ],
      "metadata": {
        "id": "m-4KQL8IAYx7",
        "colab": {
          "base_uri": "https://localhost:8080/"
        },
        "outputId": "bc53966a-ae7e-48cc-deed-3638379631ac"
      },
      "execution_count": null,
      "outputs": [
        {
          "output_type": "stream",
          "name": "stdout",
          "text": [
            "Found 767 images belonging to 2 classes.\n",
            "Found 330 images belonging to 2 classes.\n",
            "{'Bengin cases': 0, 'Malignant cases': 1}\n",
            "{'Bengin cases': 0, 'Malignant cases': 1}\n"
          ]
        }
      ]
    },
    {
      "cell_type": "code",
      "source": [
        "from keras.layers.convolutional import Convolution2DTranspose\n",
        "from keras.models import Sequential"
      ],
      "metadata": {
        "id": "owMO0ySWEJU8"
      },
      "execution_count": null,
      "outputs": []
    },
    {
      "cell_type": "code",
      "source": [
        "from tensorflow.keras.applications.vgg16 import VGG16\n",
        "base_model=VGG16(input_shape=(224,224,3),include_top=False,weights='imagenet')# leave out of the last fully connected layer"
      ],
      "metadata": {
        "id": "i9gMTGqUENyn",
        "colab": {
          "base_uri": "https://localhost:8080/"
        },
        "outputId": "26d27c8f-c814-4bd5-d4b0-2a387717e488"
      },
      "execution_count": null,
      "outputs": [
        {
          "output_type": "stream",
          "name": "stdout",
          "text": [
            "Downloading data from https://storage.googleapis.com/tensorflow/keras-applications/vgg16/vgg16_weights_tf_dim_ordering_tf_kernels_notop.h5\n",
            "58892288/58889256 [==============================] - 0s 0us/step\n",
            "58900480/58889256 [==============================] - 0s 0us/step\n"
          ]
        }
      ]
    },
    {
      "cell_type": "code",
      "source": [
        "for layer in base_model.layers:\n",
        "    layer.trainable=False"
      ],
      "metadata": {
        "id": "Ho5YVsxmE6Bk"
      },
      "execution_count": null,
      "outputs": []
    },
    {
      "cell_type": "code",
      "source": [
        "x=layers.Flatten()(base_model.output)\n",
        "x=layers.Dense(512,activation='relu')(x)\n",
        "\n",
        "x=layers.Dropout(0.5)(x)\n",
        "x=layers.Dense(1,activation='sigmoid')(x)\n",
        "model=tf.keras.models.Model(base_model.input,x)\n",
        "model.compile(loss=\"binary_crossentropy\",optimizer='adam',metrics=['accuracy'])"
      ],
      "metadata": {
        "id": "oU0zM3VvEndV"
      },
      "execution_count": null,
      "outputs": []
    },
    {
      "cell_type": "code",
      "source": [
        "TRAIN_COUNT =len(x_train.filepaths)\n",
        "TEST_COUNT=len(x_test.filepaths)\n",
        "TRAIN_STEPS_PER_EPOCH= round(TRAIN_COUNT/32)\n",
        "VAL_STEPS_PER_EPOCH = round(TEST_COUNT/32)"
      ],
      "metadata": {
        "id": "IxQU6lWJFUuc"
      },
      "execution_count": null,
      "outputs": []
    },
    {
      "cell_type": "code",
      "source": [
        "print(f\"TRAIN_STEPS_PER_EPOCH:{TRAIN_STEPS_PER_EPOCH}\")\n",
        "print(f\"VAL_STEPS_PER_EPOCH:{VAL_STEPS_PER_EPOCH}\")"
      ],
      "metadata": {
        "colab": {
          "base_uri": "https://localhost:8080/"
        },
        "id": "mdtBZWL-FhtF",
        "outputId": "6577bb6b-b470-4e7b-b6eb-687bbc7c1b05"
      },
      "execution_count": null,
      "outputs": [
        {
          "output_type": "stream",
          "name": "stdout",
          "text": [
            "TRAIN_STEPS_PER_EPOCH:24\n",
            "VAL_STEPS_PER_EPOCH:10\n"
          ]
        }
      ]
    },
    {
      "cell_type": "code",
      "source": [
        "from tensorflow.python.keras.callbacks import EarlyStopping,ModelCheckpoint\n",
        "EARLY_STOP_PATIENCE =5"
      ],
      "metadata": {
        "id": "UF3a_24zFoUE"
      },
      "execution_count": null,
      "outputs": []
    },
    {
      "cell_type": "code",
      "source": [
        "cb_early_stopper =EarlyStopping(monitor='val_losss',patience=EARLY_STOP_PATIENCE)\n",
        "cb_checkpointer = ModelCheckpoint(filepath='best.hdf5',monitor='val_loss',save_best_only=True,mode='auto')\n",
        "callbacks=[cb_checkpointer,cb_early_stopper]\n",
        "history=model.fit_generator(x_train,steps_per_epoch=TRAIN_STEPS_PER_EPOCH,epochs=20,\n",
        "                            validation_data=x_test,validation_steps=VAL_STEPS_PER_EPOCH)"
      ],
      "metadata": {
        "colab": {
          "base_uri": "https://localhost:8080/"
        },
        "id": "MCBRL5-9F1V3",
        "outputId": "709390d3-fd09-4fed-eac1-227b2b83bcc3"
      },
      "execution_count": null,
      "outputs": [
        {
          "output_type": "stream",
          "name": "stdout",
          "text": [
            "Epoch 1/20\n",
            "24/24 [==============================] - 26s 981ms/step - loss: 1.4759 - accuracy: 0.6662 - val_loss: 0.8955 - val_accuracy: 0.6844\n",
            "Epoch 2/20\n",
            "24/24 [==============================] - 23s 980ms/step - loss: 0.6293 - accuracy: 0.7653 - val_loss: 0.2938 - val_accuracy: 0.9000\n",
            "Epoch 3/20\n",
            "24/24 [==============================] - 23s 962ms/step - loss: 0.3969 - accuracy: 0.8096 - val_loss: 0.2991 - val_accuracy: 0.8813\n",
            "Epoch 4/20\n",
            "24/24 [==============================] - 22s 929ms/step - loss: 0.3749 - accuracy: 0.8422 - val_loss: 0.2838 - val_accuracy: 0.8750\n",
            "Epoch 5/20\n",
            "24/24 [==============================] - 25s 1s/step - loss: 0.3632 - accuracy: 0.8475 - val_loss: 0.2577 - val_accuracy: 0.8781\n",
            "Epoch 6/20\n",
            "24/24 [==============================] - 22s 903ms/step - loss: 0.3387 - accuracy: 0.8514 - val_loss: 0.3879 - val_accuracy: 0.8531\n",
            "Epoch 7/20\n",
            "24/24 [==============================] - 23s 951ms/step - loss: 0.3719 - accuracy: 0.8422 - val_loss: 0.2491 - val_accuracy: 0.9031\n",
            "Epoch 8/20\n",
            "24/24 [==============================] - 21s 896ms/step - loss: 0.3062 - accuracy: 0.8605 - val_loss: 0.2698 - val_accuracy: 0.8906\n",
            "Epoch 9/20\n",
            "24/24 [==============================] - 23s 956ms/step - loss: 0.3345 - accuracy: 0.8449 - val_loss: 0.2717 - val_accuracy: 0.8844\n",
            "Epoch 10/20\n",
            "24/24 [==============================] - 21s 896ms/step - loss: 0.3062 - accuracy: 0.8657 - val_loss: 0.2493 - val_accuracy: 0.8938\n",
            "Epoch 11/20\n",
            "24/24 [==============================] - 21s 887ms/step - loss: 0.2805 - accuracy: 0.8722 - val_loss: 0.2292 - val_accuracy: 0.9125\n",
            "Epoch 12/20\n",
            "24/24 [==============================] - 22s 925ms/step - loss: 0.3132 - accuracy: 0.8475 - val_loss: 0.2230 - val_accuracy: 0.8938\n",
            "Epoch 13/20\n",
            "24/24 [==============================] - 23s 947ms/step - loss: 0.2775 - accuracy: 0.8801 - val_loss: 0.2654 - val_accuracy: 0.8938\n",
            "Epoch 14/20\n",
            "24/24 [==============================] - 24s 1s/step - loss: 0.2515 - accuracy: 0.8827 - val_loss: 0.2356 - val_accuracy: 0.8938\n",
            "Epoch 15/20\n",
            "24/24 [==============================] - 22s 938ms/step - loss: 0.2647 - accuracy: 0.8931 - val_loss: 0.2401 - val_accuracy: 0.8938\n",
            "Epoch 16/20\n",
            "24/24 [==============================] - 24s 1s/step - loss: 0.2918 - accuracy: 0.8761 - val_loss: 0.3673 - val_accuracy: 0.8562\n",
            "Epoch 17/20\n",
            "24/24 [==============================] - 23s 944ms/step - loss: 0.2778 - accuracy: 0.8657 - val_loss: 0.2074 - val_accuracy: 0.8938\n",
            "Epoch 18/20\n",
            "24/24 [==============================] - 25s 1s/step - loss: 0.2669 - accuracy: 0.8814 - val_loss: 0.1975 - val_accuracy: 0.9000\n",
            "Epoch 19/20\n",
            "24/24 [==============================] - 23s 943ms/step - loss: 0.3067 - accuracy: 0.8527 - val_loss: 0.2197 - val_accuracy: 0.9000\n",
            "Epoch 20/20\n",
            "24/24 [==============================] - 24s 1s/step - loss: 0.2392 - accuracy: 0.8983 - val_loss: 0.2089 - val_accuracy: 0.9000\n"
          ]
        }
      ]
    },
    {
      "cell_type": "code",
      "source": [
        "from sklearn.metrics import confusion_matrix,classification_report\n",
        "from sklearn.metrics import accuracy_score\n",
        "import seaborn as sns\n",
        "from sklearn.metrics import confusion_matrix"
      ],
      "metadata": {
        "id": "ywuBR38FQNi4"
      },
      "execution_count": null,
      "outputs": []
    },
    {
      "cell_type": "code",
      "source": [
        "y_pred=model.predict(x_test)\n",
        "threshold=0.5\n",
        "y_pred_threshold=[(1 if val>threshold else 0) for val in y_pred]\n",
        "y_true=x_test.labels.tolist()\n",
        "print(confusion_matrix(y_true,y_pred_threshold))\n",
        "print(accuracy_score(y_true,y_pred_threshold))\n",
        "sns.heatmap(confusion_matrix(y_true,y_pred_threshold),annot=True)\n"
      ],
      "metadata": {
        "id": "uPciY6KuQPP5",
        "colab": {
          "base_uri": "https://localhost:8080/",
          "height": 334
        },
        "outputId": "48cf4677-bcd5-4d13-e08e-cd3bf6d8f129"
      },
      "execution_count": null,
      "outputs": [
        {
          "output_type": "stream",
          "name": "stdout",
          "text": [
            "[[ 60  65]\n",
            " [ 81 124]]\n",
            "0.5575757575757576\n"
          ]
        },
        {
          "output_type": "execute_result",
          "data": {
            "text/plain": [
              "<matplotlib.axes._subplots.AxesSubplot at 0x7f58944bd5b0>"
            ]
          },
          "metadata": {},
          "execution_count": 32
        },
        {
          "output_type": "display_data",
          "data": {
            "text/plain": [
              "<Figure size 432x288 with 2 Axes>"
            ],
            "image/png": "[encoded data removed]"
          },
          "metadata": {
            "needs_background": "light"
          }
        }
      ]
    },
    {
      "cell_type": "code",
      "source": [
        "y_pred = model.predict(x_test, verbose=1)\n",
        "y_pred_bool = np.argmax(y_pred, axis=1)\n",
        "#y_true=x_test.labels.tolist()\n",
        "\n",
        "\n",
        "\n",
        "print(classification_report(y_true, y_pred_bool))\n",
        "\n",
        "print(confusion_matrix(y_true, y_pred=y_pred_bool))"
      ],
      "metadata": {
        "id": "JMk-clhtHTpj",
        "colab": {
          "base_uri": "https://localhost:8080/"
        },
        "outputId": "ffe47e72-f654-4f56-91b5-348086d132de"
      },
      "execution_count": null,
      "outputs": [
        {
          "output_type": "stream",
          "name": "stdout",
          "text": [
            "11/11 [==============================] - 6s 520ms/step\n",
            "              precision    recall  f1-score   support\n",
            "\n",
            "           0       0.38      1.00      0.55       125\n",
            "           1       0.00      0.00      0.00       205\n",
            "\n",
            "    accuracy                           0.38       330\n",
            "   macro avg       0.19      0.50      0.27       330\n",
            "weighted avg       0.14      0.38      0.21       330\n",
            "\n",
            "[[125   0]\n",
            " [205   0]]\n"
          ]
        }
      ]
    },
    {
      "cell_type": "code",
      "source": [
        "print(classification_report(y_true, y_pred_bool))"
      ],
      "metadata": {
        "id": "tRbuSDddTPWR"
      },
      "execution_count": null,
      "outputs": []
    },
    {
      "cell_type": "code",
      "source": [
        "keys=history.history.keys()\n",
        "print(keys)"
      ],
      "metadata": {
        "colab": {
          "base_uri": "https://localhost:8080/"
        },
        "id": "9TzIoXH5QZYI",
        "outputId": "79bb6794-9e77-4736-8f1a-dc051f2674c0"
      },
      "execution_count": null,
      "outputs": [
        {
          "output_type": "stream",
          "name": "stdout",
          "text": [
            "dict_keys(['loss', 'accuracy', 'val_loss', 'val_accuracy'])\n"
          ]
        }
      ]
    },
    {
      "cell_type": "code",
      "source": [
        "plt.figure(1,figsize=(15,8))\n",
        "plt.subplot(221)\n",
        "plt.plot(history.history['accuracy'])\n",
        "plt.plot(history.history['val_accuracy'])\n",
        "plt.title('Model_Accuracy')\n",
        "plt.ylabel('Accuracy')\n",
        "plt.xlabel('Epoch')\n",
        "plt.legend(['train','valid'])"
      ],
      "metadata": {
        "colab": {
          "base_uri": "https://localhost:8080/",
          "height": 293
        },
        "id": "hBQFxGtpQftx",
        "outputId": "5d6ef213-69a6-48a3-cbfc-92b0d50803b5"
      },
      "execution_count": null,
      "outputs": [
        {
          "output_type": "execute_result",
          "data": {
            "text/plain": [
              "<matplotlib.legend.Legend at 0x7f58943b7af0>"
            ]
          },
          "metadata": {},
          "execution_count": 35
        },
        {
          "output_type": "display_data",
          "data": {
            "text/plain": [
              "<Figure size 1080x576 with 1 Axes>"
            ],
            "image/png": "[encoded data removed]"
          },
          "metadata": {
            "needs_background": "light"
          }
        }
      ]
    },
    {
      "cell_type": "code",
      "source": [
        "plt.figure(1,figsize=(15,8))\n",
        "plt.subplot(222)\n",
        "plt.plot(history.history['loss'])\n",
        "plt.plot(history.history['val_loss'])\n",
        "plt.title('Model_loss')\n",
        "plt.ylabel('loss')\n",
        "plt.xlabel('Epoch')\n",
        "plt.legend(['train','valid'])"
      ],
      "metadata": {
        "colab": {
          "base_uri": "https://localhost:8080/",
          "height": 293
        },
        "id": "opDjXf0nQj_K",
        "outputId": "eac15835-d9ba-46ed-9740-73f5c29f6f62"
      },
      "execution_count": null,
      "outputs": [
        {
          "output_type": "execute_result",
          "data": {
            "text/plain": [
              "<matplotlib.legend.Legend at 0x7f5894330f70>"
            ]
          },
          "metadata": {},
          "execution_count": 36
        },
        {
          "output_type": "display_data",
          "data": {
            "text/plain": [
              "<Figure size 1080x576 with 1 Axes>"
            ],
            "image/png": "[encoded data removed]"
          },
          "metadata": {
            "needs_background": "light"
          }
        }
      ]
    },
    {
      "cell_type": "code",
      "source": [
        "for key in keys:\n",
        "  plt.figure(figsize=(15,2))\n",
        "  plt.plot(history.history[key])\n",
        "  plt.title(key)\n",
        "  plt.ylabel(key)\n",
        "  plt.xlabel('epoch')\n",
        "  plt.legend(['train','valid'])"
      ],
      "metadata": {
        "colab": {
          "base_uri": "https://localhost:8080/",
          "height": 697
        },
        "id": "Pdnx9OfgQpc_",
        "outputId": "5fdf21f5-93d4-4060-85f3-6370c0c35466"
      },
      "execution_count": null,
      "outputs": [
        {
          "output_type": "display_data",
          "data": {
            "text/plain": [
              "<Figure size 1080x144 with 1 Axes>"
            ],
            "image/png": "[encoded data removed]"
          },
          "metadata": {
            "needs_background": "light"
          }
        },
        {
          "output_type": "display_data",
          "data": {
            "text/plain": [
              "<Figure size 1080x144 with 1 Axes>"
            ],
            "image/png": "[encoded data removed]"
          },
          "metadata": {
            "needs_background": "light"
          }
        },
        {
          "output_type": "display_data",
          "data": {
            "text/plain": [
              "<Figure size 1080x144 with 1 Axes>"
            ],
            "image/png": "[encoded data removed]"
          },
          "metadata": {
            "needs_background": "light"
          }
        },
        {
          "output_type": "display_data",
          "data": {
            "text/plain": [
              "<Figure size 1080x144 with 1 Axes>"
            ],
            "image/png": "[encoded data removed]"
          },
          "metadata": {
            "needs_background": "light"
          }
        }
      ]
    },
    {
      "cell_type": "code",
      "source": [
        "model.save(\"best.hdf5\")"
      ],
      "metadata": {
        "id": "pzOl32vfQ2vP"
      },
      "execution_count": null,
      "outputs": []
    },
    {
      "cell_type": "code",
      "source": [
        "from tensorflow import keras\n",
        "from tensorflow.keras import layers\n",
        "from keras.models import load_model\n",
        "model=load_model('/content/best.hdf5')"
      ],
      "metadata": {
        "id": "1Puhw9y5RXbo"
      },
      "execution_count": null,
      "outputs": []
    },
    {
      "cell_type": "code",
      "source": [
        "from keras.preprocessing import image\n",
        "import cv2\n",
        "import numpy as np\n",
        "import PIL\n",
        "from PIL import Image"
      ],
      "metadata": {
        "id": "YJL8c4UnRela"
      },
      "execution_count": null,
      "outputs": []
    },
    {
      "cell_type": "code",
      "source": [
        "img = image.load_img('/content/drive/MyDrive/Data/Malignant cases/Malignant case (104).jpg',\n",
        "                    target_size=(224,224))"
      ],
      "metadata": {
        "id": "fAEqRzSgRiRw"
      },
      "execution_count": null,
      "outputs": []
    },
    {
      "cell_type": "code",
      "source": [
        "x=image.img_to_array(img)\n",
        "x=np.expand_dims(x,axis=0)\n",
        "x.shape"
      ],
      "metadata": {
        "colab": {
          "base_uri": "https://localhost:8080/"
        },
        "id": "nNnz2yIWRwcY",
        "outputId": "2c34025e-0b4b-4e3f-e983-918383dd3d79"
      },
      "execution_count": null,
      "outputs": [
        {
          "output_type": "execute_result",
          "data": {
            "text/plain": [
              "(1, 224, 224, 3)"
            ]
          },
          "metadata": {},
          "execution_count": 41
        }
      ]
    },
    {
      "cell_type": "code",
      "source": [
        "pred = model.predict(x)\n",
        "pred"
      ],
      "metadata": {
        "colab": {
          "base_uri": "https://localhost:8080/"
        },
        "id": "goMmwh9rRx_Y",
        "outputId": "1d6d7973-f2e6-48e6-8a78-b67f6128ff28"
      },
      "execution_count": null,
      "outputs": [
        {
          "output_type": "execute_result",
          "data": {
            "text/plain": [
              "array([[1.]], dtype=float32)"
            ]
          },
          "metadata": {},
          "execution_count": 42
        }
      ]
    },
    {
      "cell_type": "code",
      "source": [
        "class_names=[\"Bengin cases\",\"Malignant cases\"]\n",
        "prediction = class_names[int(pred[0][0])]\n",
        "print(pred[0][0])\n",
        "print(prediction)"
      ],
      "metadata": {
        "colab": {
          "base_uri": "https://localhost:8080/"
        },
        "id": "akGjN8cBR2LI",
        "outputId": "0afeb2d4-89c7-4fc5-af92-1a162281736e"
      },
      "execution_count": null,
      "outputs": [
        {
          "output_type": "stream",
          "name": "stdout",
          "text": [
            "1.0\n",
            "Malignant cases\n"
          ]
        }
      ]
    },
    {
      "cell_type": "code",
      "source": [
        "from flask import Flask, request, jsonify\n",
        "from tensorflow.keras.preprocessing import image\n",
        "import numpy as np\n",
        "\n",
        "# Load the saved model\n",
        "model = load_model('/content/best.hdf5')\n",
        "\n",
        "# Define a Flask app\n",
        "app = Flask(__name__)\n",
        "\n",
        "# Define a route for predicting the uploaded images\n",
        "@app.route('/predict', methods=['POST'])\n",
        "def predict():\n",
        "    # Get the uploaded file from the request\n",
        "    file = request.files['image']\n",
        "    \n",
        "    # Load the image and preprocess it\n",
        "    img = image.load_img(file, target_size=(224, 224))\n",
        "    x = image.img_to_array(img)\n",
        "    x = np.expand_dims(x, axis=0)\n",
        "    x = preprocess_input(x)\n",
        "    \n",
        "    # Make a prediction\n",
        "    preds = model.predict(x)\n",
        "    \n",
        "    # Get the class label\n",
        "    label = decode_predictions(preds, top=1)[0][0][1]\n",
        "    \n",
        "    # Return the prediction result\n",
        "    return jsonify({'class': label})\n",
        "\n",
        "if __name__ == '__main__':\n",
        "    app.run(debug=True)"
      ],
      "metadata": {
        "id": "7dDum_hNG2es"
      },
      "execution_count": null,
      "outputs": []
    }
  ]
}