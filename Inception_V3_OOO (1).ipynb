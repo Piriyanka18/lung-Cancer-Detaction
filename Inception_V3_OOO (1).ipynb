{
  "nbformat": 4,
  "nbformat_minor": 0,
  "metadata": {
    "colab": {
      "provenance": []
    },
    "kernelspec": {
      "name": "python3",
      "display_name": "Python 3"
    },
    "language_info": {
      "name": "python"
    },
    "gpuClass": "standard",
    "accelerator": "GPU"
  },
  "cells": [
    {
      "cell_type": "code",
      "execution_count": null,
      "metadata": {
        "id": "4h0d6i9LVfxZ"
      },
      "outputs": [],
      "source": [
        "import os"
      ]
    },
    {
      "cell_type": "code",
      "source": [
        "from google.colab import drive\n",
        "drive.mount('/content/drive')"
      ],
      "metadata": {
        "colab": {
          "base_uri": "https://localhost:8080/"
        },
        "id": "HUfy05VabU5b",
        "outputId": "97c6c463-f368-4137-dd56-343d9e457e49"
      },
      "execution_count": null,
      "outputs": [
        {
          "output_type": "stream",
          "name": "stdout",
          "text": [
            "Mounted at /content/drive\n"
          ]
        }
      ]
    },
    {
      "cell_type": "code",
      "source": [
        "import warnings\n",
        "warnings.filterwarnings('ignore')\n",
        "# Get all the paths\n",
        "data_dir_list = os.listdir('/content/drive/MyDrive/R_Data')\n",
        "print(data_dir_list)\n",
        "path, dirs, files = next(os.walk(\"/content/drive/MyDrive/R_Data\"))\n",
        "file_count = len(files)\n",
        "#print(file_count)"
      ],
      "metadata": {
        "colab": {
          "base_uri": "https://localhost:8080/"
        },
        "id": "CGc0Mmm6WbQ5",
        "outputId": "77cfd162-4287-48c2-8eed-150d087a9ef1"
      },
      "execution_count": null,
      "outputs": [
        {
          "output_type": "stream",
          "name": "stdout",
          "text": [
            "['Malignant cases', 'Bengin cases', 'Split_data_inception_V3', 'Inception_v3.hdf5', 'Split_data_CNN']\n"
          ]
        }
      ]
    },
    {
      "cell_type": "code",
      "source": [
        "# Make new base directory\n",
        "original_dataset_dir = '/content/drive/MyDrive/R_Data'\n",
        "base_dir = '/content/drive/MyDrive/R_Data/Split_data_inception_V3_1/'\n",
        "os.mkdir(base_dir)"
      ],
      "metadata": {
        "id": "J6S8Tj_PWfSI"
      },
      "execution_count": null,
      "outputs": []
    },
    {
      "cell_type": "code",
      "source": [
        "#create two folders (train and validation)\n",
        "train_dir = os.path.join(base_dir, 'train')\n",
        "os.mkdir(train_dir)\n",
        "\n",
        "validation_dir = os.path.join(base_dir, 'validation')\n",
        "os.mkdir(validation_dir)"
      ],
      "metadata": {
        "id": "2qFsDKcbWs22"
      },
      "execution_count": null,
      "outputs": []
    },
    {
      "cell_type": "code",
      "source": [
        "#Under train folder create two folders \n",
        "\n",
        "train_cloud_dir = os.path.join(train_dir, 'Bengin cases')\n",
        "os.mkdir(train_cloud_dir)\n",
        "\n",
        "train_foggy_dir = os.path.join(train_dir, 'Malignant cases')\n",
        "os.mkdir(train_foggy_dir)"
      ],
      "metadata": {
        "id": "of47EwauWu_E"
      },
      "execution_count": null,
      "outputs": []
    },
    {
      "cell_type": "code",
      "source": [
        "#Under validation folder create five folders \n",
        "\n",
        "validation_cloud_dir = os.path.join(validation_dir, 'Bengin cases')\n",
        "os.mkdir(validation_cloud_dir)\n",
        "\n",
        "validation_foggy_dir = os.path.join(validation_dir, 'Malignant cases')\n",
        "os.mkdir(validation_foggy_dir)"
      ],
      "metadata": {
        "id": "Zvr-kTpUWyGf"
      },
      "execution_count": null,
      "outputs": []
    },
    {
      "cell_type": "code",
      "source": [
        "import os\n",
        "import random\n",
        "from shutil import copyfile"
      ],
      "metadata": {
        "id": "thRSEOMyW2DN"
      },
      "execution_count": null,
      "outputs": []
    },
    {
      "cell_type": "code",
      "source": [
        "def split_data(SOURCE, TRAINING, VALIDATION, SPLIT_SIZE):\n",
        "    files = []\n",
        "    for filename in os.listdir(SOURCE):\n",
        "        file = SOURCE + filename\n",
        "        if os.path.getsize(file) > 0:\n",
        "            files.append(filename)\n",
        "        else:\n",
        "            print(filename + \" is zero length, so ignoring.\")\n",
        "\n",
        "    training_length = int(len(files) * SPLIT_SIZE)\n",
        "    valid_length = int(len(files) - training_length)\n",
        "    shuffled_set = random.sample(files, len(files))\n",
        "    training_set = shuffled_set[0:training_length]\n",
        "    valid_set = shuffled_set[training_length:]\n",
        "\n",
        "    for filename in training_set:\n",
        "        this_file = SOURCE + filename\n",
        "        destination = TRAINING + filename\n",
        "        copyfile(this_file, destination)\n",
        "\n",
        "    for filename in valid_set:\n",
        "        this_file = SOURCE + filename\n",
        "        destination = VALIDATION + filename\n",
        "        copyfile(this_file, destination)"
      ],
      "metadata": {
        "id": "mrzr9xDAW5OO"
      },
      "execution_count": null,
      "outputs": []
    },
    {
      "cell_type": "code",
      "source": [
        "BENGIN_SOURCE_DIR = '/content/drive/MyDrive/R_Data/Bengin cases/'\n",
        "TRAINING_BENGIN_DIR = '/content/drive/MyDrive/R_Data/Split_data_inception_V3_1/train/Bengin cases/'\n",
        "VALID_BENGIN_DIR = '/content/drive/MyDrive/R_Data/Split_data_inception_V3_1/validation/Bengin cases/'\n",
        "\n",
        "MALIGNANT_SOURCE_DIR = '/content/drive/MyDrive/R_Data/Malignant cases/'\n",
        "TRAINING_MALIGNANT_DIR = '/content/drive/MyDrive/R_Data/Split_data_inception_V3_1/train/Malignant cases/'\n",
        "VALID_MALIGNANT_DIR = '/content/drive/MyDrive/R_Data/Split_data_inception_V3_1/validation/Malignant cases/'"
      ],
      "metadata": {
        "id": "hTIIJU3JW9VD"
      },
      "execution_count": null,
      "outputs": []
    },
    {
      "cell_type": "code",
      "source": [
        "import os\n",
        "import random\n",
        "from shutil import copyfile\n",
        "\n",
        "split_size = .80\n",
        "\n",
        "split_data(BENGIN_SOURCE_DIR, TRAINING_BENGIN_DIR, VALID_BENGIN_DIR, split_size)\n",
        "split_data(MALIGNANT_SOURCE_DIR, TRAINING_MALIGNANT_DIR, VALID_MALIGNANT_DIR, split_size)"
      ],
      "metadata": {
        "id": "e4fXZwLJXMYa"
      },
      "execution_count": null,
      "outputs": []
    },
    {
      "cell_type": "code",
      "source": [
        "import matplotlib.pyplot as plt\n",
        "import seaborn as sns\n",
        "from matplotlib.image import imread\n",
        "import pathlib\n",
        "\n",
        "image_folder = ['Bengin cases', 'Malignant cases']\n",
        "nimgs = {}\n",
        "for i in image_folder:\n",
        "    nimages = len(os.listdir('/content/drive/MyDrive/R_Data/Split_data_inception_V3_1/train/'+i+'/'))\n",
        "    nimgs[i]=nimages\n",
        "plt.figure(figsize=(9, 6))\n",
        "plt.bar(range(len(nimgs)), list(nimgs.values()), align='center')\n",
        "plt.xticks(range(len(nimgs)), list(nimgs.keys()))\n",
        "plt.title('Distribution of different classes in Training Dataset')\n",
        "plt.show()"
      ],
      "metadata": {
        "colab": {
          "base_uri": "https://localhost:8080/",
          "height": 390
        },
        "id": "FfcNpG1qbYxv",
        "outputId": "c90a209c-871a-4bc1-ca42-80553307028e"
      },
      "execution_count": null,
      "outputs": [
        {
          "output_type": "display_data",
          "data": {
            "text/plain": [
              "<Figure size 648x432 with 1 Axes>"
            ],
            "image/png": "[encoded data removed]"
          },
          "metadata": {
            "needs_background": "light"
          }
        }
      ]
    },
    {
      "cell_type": "code",
      "source": [
        "for i in ['Bengin cases', 'Malignant cases']:\n",
        "    print('Training {} images are: '.format(i)+str(len(os.listdir('/content/drive/MyDrive/R_Data/Split_data_inception_V3_1/train/'+i+'/'))))"
      ],
      "metadata": {
        "colab": {
          "base_uri": "https://localhost:8080/"
        },
        "id": "aZ4LD3FQbnJt",
        "outputId": "1f195d62-7c69-4a16-c6e3-281956c0bb9d"
      },
      "execution_count": null,
      "outputs": [
        {
          "output_type": "stream",
          "name": "stdout",
          "text": [
            "Training Bengin cases images are: 760\n",
            "Training Malignant cases images are: 748\n"
          ]
        }
      ]
    },
    {
      "cell_type": "code",
      "source": [
        "for i in ['Bengin cases', 'Malignant cases']:\n",
        "    print('Testing {} images are: '.format(i)+str(len(os.listdir('/content/drive/MyDrive/R_Data/Split_data_inception_V3_1/validation/'+i+'/'))))"
      ],
      "metadata": {
        "colab": {
          "base_uri": "https://localhost:8080/"
        },
        "id": "AEvD2Z_kb2Nt",
        "outputId": "297e44b0-6bf1-4335-a879-8a82d9f95a4e"
      },
      "execution_count": null,
      "outputs": [
        {
          "output_type": "stream",
          "name": "stdout",
          "text": [
            "Testing Bengin cases images are: 191\n",
            "Testing Malignant cases images are: 188\n"
          ]
        }
      ]
    },
    {
      "cell_type": "code",
      "source": [
        "import matplotlib.pyplot as plt\n",
        "import seaborn as sns\n",
        "from matplotlib.image import imread\n",
        "import pathlib\n",
        "\n",
        "image_folder = ['Bengin cases', 'Malignant cases']\n",
        "nimgs = {}\n",
        "for i in image_folder:\n",
        "    nimages = len(os.listdir('/content/drive/MyDrive/R_Data/Split_data_inception_V3_1/validation/'+i+'/'))\n",
        "    nimgs[i]=nimages\n",
        "plt.figure(figsize=(9, 6))\n",
        "plt.bar(range(len(nimgs)), list(nimgs.values()), align='center')\n",
        "plt.xticks(range(len(nimgs)), list(nimgs.keys()))\n",
        "plt.title('Distribution of different classes in Testing Dataset')\n",
        "plt.show()"
      ],
      "metadata": {
        "colab": {
          "base_uri": "https://localhost:8080/",
          "height": 390
        },
        "id": "-3QgoK4icDDL",
        "outputId": "3836a0a1-3425-47fa-bdaf-b5513589bfee"
      },
      "execution_count": null,
      "outputs": [
        {
          "output_type": "display_data",
          "data": {
            "text/plain": [
              "<Figure size 648x432 with 1 Axes>"
            ],
            "image/png": "[encoded data removed]"
          },
          "metadata": {
            "needs_background": "light"
          }
        }
      ]
    },
    {
      "cell_type": "code",
      "source": [
        "!pip install tensorflow==2.7.0"
      ],
      "metadata": {
        "id": "ceLsgAQScRCn"
      },
      "execution_count": null,
      "outputs": []
    },
    {
      "cell_type": "code",
      "source": [
        "import tensorflow as tf\n",
        "from tensorflow import keras\n",
        "from tensorflow.keras import layers\n",
        "from keras.models import sequential\n",
        "from tensorflow.keras.layers import Dense\n",
        "from keras.layers import Convolution2D\n",
        "from keras.layers import MaxPooling2D\n",
        "from keras.layers import Dropout\n",
        "from keras.layers import Flatten"
      ],
      "metadata": {
        "id": "hwMjPDbJdW4F"
      },
      "execution_count": null,
      "outputs": []
    },
    {
      "cell_type": "code",
      "source": [
        "import matplotlib.pyplot as plt\n",
        "import numpy as np\n",
        "from keras.preprocessing.image import ImageDataGenerator\n",
        "from keras.preprocessing.image import ImageDataGenerator, array_to_img, img_to_array, load_img"
      ],
      "metadata": {
        "id": "6U-6AWL_dcEK"
      },
      "execution_count": null,
      "outputs": []
    },
    {
      "cell_type": "code",
      "source": [
        "train_datagen = ImageDataGenerator(rescale=1./255,\n",
        "                                   rotation_range=8,\n",
        "                                   zoom_range=0.15,\n",
        "                                   width_shift_range=0.15,\n",
        "                                   height_shift_range=0.15,\n",
        "                                   shear_range=0.10,\n",
        "                                   horizontal_flip=True,\n",
        "                                   brightness_range=[0.8,1.2],\n",
        "                                   channel_shift_range=0.15,\n",
        "                                   fill_mode=\"nearest\")"
      ],
      "metadata": {
        "id": "-UhJ6xs5djvK"
      },
      "execution_count": null,
      "outputs": []
    },
    {
      "cell_type": "code",
      "source": [
        "test_datagen = ImageDataGenerator(rescale=1./255)"
      ],
      "metadata": {
        "id": "6pDpN1KKdsZS"
      },
      "execution_count": null,
      "outputs": []
    },
    {
      "cell_type": "code",
      "source": [
        "x_train = train_datagen.flow_from_directory('/content/drive/MyDrive/R_Data/Split_data_inception_V3_1/train',target_size=(299,299),batch_size=32,class_mode='binary')\n",
        "\n",
        "x_test = test_datagen.flow_from_directory('/content/drive/MyDrive/R_Data/Split_data_inception_V3_1/validation',target_size=(299,299),batch_size=32,class_mode='binary')\n",
        "\n",
        "print(x_train.class_indices)\n",
        "print(x_test.class_indices)"
      ],
      "metadata": {
        "colab": {
          "base_uri": "https://localhost:8080/"
        },
        "id": "SJRaL6EFdwRi",
        "outputId": "5388d996-a536-4cc7-e521-b0d715ac4106"
      },
      "execution_count": null,
      "outputs": [
        {
          "output_type": "stream",
          "name": "stdout",
          "text": [
            "Found 876 images belonging to 2 classes.\n",
            "Found 221 images belonging to 2 classes.\n",
            "{'Bengin cases': 0, 'Malignant cases': 1}\n",
            "{'Bengin cases': 0, 'Malignant cases': 1}\n"
          ]
        }
      ]
    },
    {
      "cell_type": "code",
      "source": [
        "import tensorflow.python.keras.applications"
      ],
      "metadata": {
        "id": "EWy2rGgFd_8a"
      },
      "execution_count": null,
      "outputs": []
    },
    {
      "cell_type": "code",
      "source": [
        "from tensorflow.keras.applications.inception_v3 import InceptionV3"
      ],
      "metadata": {
        "id": "Ze4wHfEueEna"
      },
      "execution_count": null,
      "outputs": []
    },
    {
      "cell_type": "code",
      "source": [
        "from keras.models import Sequential\n",
        "\n",
        "model = Sequential()\n",
        "model.add(Convolution2D(32, (3, 3), input_shape=(224, 224, 3), activation='relu'))\n",
        "model.add(MaxPooling2D(pool_size=(3, 3)))\n",
        "model.add(Dropout(0.25))\n",
        "model.add(Convolution2D(64, (3, 3), activation='relu'))\n",
        "model.add(Convolution2D(64, (3, 3), activation='relu'))\n",
        "model.add(MaxPooling2D(pool_size=(2, 2)))\n",
        "model.add(Dropout(0.25))\n",
        "model.add(Convolution2D(128, (3, 3), activation='relu'))\n",
        "model.add(Convolution2D(128, (3, 3), activation='relu'))\n",
        "model.add(MaxPooling2D(pool_size=(2, 2)))\n",
        "model.add(Dropout(0.25))\n",
        "model.add(Flatten())\n",
        "model.add(Dense(units=512, activation='relu'))\n",
        "model.add(Dropout(0.5))\n",
        "model.add(Dense(units=128, activation='relu'))\n",
        "model.add(Dense(1, activation='sigmoid'))\n",
        "\n",
        "model.summary()"
      ],
      "metadata": {
        "colab": {
          "base_uri": "https://localhost:8080/"
        },
        "id": "ZzTd0OBoq_JZ",
        "outputId": "b213a258-3ff9-468b-b786-0a0a4ef8157e"
      },
      "execution_count": null,
      "outputs": [
        {
          "output_type": "stream",
          "name": "stdout",
          "text": [
            "Model: \"sequential\"\n",
            "_________________________________________________________________\n",
            " Layer (type)                Output Shape              Param #   \n",
            "=================================================================\n",
            " conv2d (Conv2D)             (None, 222, 222, 32)      896       \n",
            "                                                                 \n",
            " max_pooling2d (MaxPooling2D  (None, 74, 74, 32)       0         \n",
            " )                                                               \n",
            "                                                                 \n",
            " dropout (Dropout)           (None, 74, 74, 32)        0         \n",
            "                                                                 \n",
            " conv2d_1 (Conv2D)           (None, 72, 72, 64)        18496     \n",
            "                                                                 \n",
            " conv2d_2 (Conv2D)           (None, 70, 70, 64)        36928     \n",
            "                                                                 \n",
            " max_pooling2d_1 (MaxPooling  (None, 35, 35, 64)       0         \n",
            " 2D)                                                             \n",
            "                                                                 \n",
            " dropout_1 (Dropout)         (None, 35, 35, 64)        0         \n",
            "                                                                 \n",
            " conv2d_3 (Conv2D)           (None, 33, 33, 128)       73856     \n",
            "                                                                 \n",
            " conv2d_4 (Conv2D)           (None, 31, 31, 128)       147584    \n",
            "                                                                 \n",
            " max_pooling2d_2 (MaxPooling  (None, 15, 15, 128)      0         \n",
            " 2D)                                                             \n",
            "                                                                 \n",
            " dropout_2 (Dropout)         (None, 15, 15, 128)       0         \n",
            "                                                                 \n",
            " flatten (Flatten)           (None, 28800)             0         \n",
            "                                                                 \n",
            " dense (Dense)               (None, 512)               14746112  \n",
            "                                                                 \n",
            " dropout_3 (Dropout)         (None, 512)               0         \n",
            "                                                                 \n",
            " dense_1 (Dense)             (None, 128)               65664     \n",
            "                                                                 \n",
            " dense_2 (Dense)             (None, 1)                 129       \n",
            "                                                                 \n",
            "=================================================================\n",
            "Total params: 15,089,665\n",
            "Trainable params: 15,089,665\n",
            "Non-trainable params: 0\n",
            "_________________________________________________________________\n"
          ]
        }
      ]
    },
    {
      "cell_type": "code",
      "source": [
        "base_model=tf.keras.applications.inception_v3.InceptionV3(\n",
        "    include_top=False,\n",
        "    weights='imagenet',\n",
        "    input_tensor=None,\n",
        "    input_shape=(299,299,3),\n",
        "    pooling=None,\n",
        "    classes=1000,\n",
        "    classifier_activation='softmax'\n",
        ")\n",
        "for layer in base_model.layers:\n",
        "    layer.trainable=False"
      ],
      "metadata": {
        "id": "onkXlKILfl1e",
        "colab": {
          "base_uri": "https://localhost:8080/"
        },
        "outputId": "dc34189f-7e2e-4016-e139-ec0c45b4c995"
      },
      "execution_count": null,
      "outputs": [
        {
          "output_type": "stream",
          "name": "stdout",
          "text": [
            "Downloading data from https://storage.googleapis.com/tensorflow/keras-applications/inception_v3/inception_v3_weights_tf_dim_ordering_tf_kernels_notop.h5\n",
            "87916544/87910968 [==============================] - 5s 0us/step\n",
            "87924736/87910968 [==============================] - 5s 0us/step\n"
          ]
        }
      ]
    },
    {
      "cell_type": "code",
      "source": [
        "x=layers.Flatten()(base_model.output)\n",
        "x=layers.Dense(512,activation='relu')(x)\n",
        "\n",
        "x=layers.Dropout(0.5)(x)\n",
        "x=layers.Dense(1,activation='sigmoid')(x)\n",
        "model=tf.keras.models.Model(base_model.input,x)\n",
        "\n"
      ],
      "metadata": {
        "id": "W0UWugGffvLP"
      },
      "execution_count": null,
      "outputs": []
    },
    {
      "cell_type": "code",
      "source": [
        "model.compile(loss=\"binary_crossentropy\",optimizer='adam',metrics=['accuracy'])"
      ],
      "metadata": {
        "id": "frBPnpXQMzbX"
      },
      "execution_count": null,
      "outputs": []
    },
    {
      "cell_type": "code",
      "source": [
        "TRAIN_COUNT =len(x_train.filepaths)\n",
        "TEST_COUNT=len(x_test.filepaths)\n",
        "TRAIN_STEPS_PER_EPOCH= round(TRAIN_COUNT/32)\n",
        "VAL_STEPS_PER_EPOCH = round(TEST_COUNT/32)"
      ],
      "metadata": {
        "id": "EQHNrHuyx86k"
      },
      "execution_count": null,
      "outputs": []
    },
    {
      "cell_type": "code",
      "source": [
        "print(f\"TRAIN_STEPS_PER_EPOCH:{TRAIN_STEPS_PER_EPOCH}\")\n",
        "print(f\"VAL_STEPS_PER_EPOCH:{VAL_STEPS_PER_EPOCH}\")"
      ],
      "metadata": {
        "colab": {
          "base_uri": "https://localhost:8080/"
        },
        "id": "n2d3D_weQibg",
        "outputId": "85d57ccb-3af7-40a5-b781-9caa576e448b"
      },
      "execution_count": null,
      "outputs": [
        {
          "output_type": "stream",
          "name": "stdout",
          "text": [
            "TRAIN_STEPS_PER_EPOCH:27\n",
            "VAL_STEPS_PER_EPOCH:7\n"
          ]
        }
      ]
    },
    {
      "cell_type": "code",
      "source": [
        "from tensorflow.python.keras.callbacks import EarlyStopping,ModelCheckpoint\n",
        "EARLY_STOP_PATIENCE =5"
      ],
      "metadata": {
        "id": "SI9y2hIlpzJf"
      },
      "execution_count": null,
      "outputs": []
    },
    {
      "cell_type": "code",
      "source": [
        "cb_early_stopper =EarlyStopping(monitor='val_losss',patience=EARLY_STOP_PATIENCE)\n",
        "cb_checkpointer = ModelCheckpoint(filepath='Inception_v3.hdf5',monitor='val_loss',save_best_only=True,mode='auto')\n",
        "callbacks=[cb_checkpointer,cb_early_stopper]\n",
        "history=model.fit_generator(x_train,steps_per_epoch=TRAIN_STEPS_PER_EPOCH,epochs=20,\n",
        "                            validation_data=x_test,validation_steps=VAL_STEPS_PER_EPOCH)"
      ],
      "metadata": {
        "colab": {
          "base_uri": "https://localhost:8080/"
        },
        "id": "uK6VldWwpwkA",
        "outputId": "ea9d7456-197b-4320-b22f-bf0a53f8b73a"
      },
      "execution_count": null,
      "outputs": [
        {
          "output_type": "stream",
          "name": "stdout",
          "text": [
            "Epoch 1/20\n",
            "27/27 [==============================] - 42s 1s/step - loss: 12.6191 - accuracy: 0.7583 - val_loss: 8.6226 - val_accuracy: 0.8462\n",
            "Epoch 2/20\n",
            "27/27 [==============================] - 27s 1s/step - loss: 8.4766 - accuracy: 0.8092 - val_loss: 4.0997 - val_accuracy: 0.8281\n",
            "Epoch 3/20\n",
            "27/27 [==============================] - 26s 953ms/step - loss: 2.0870 - accuracy: 0.8152 - val_loss: 0.6095 - val_accuracy: 0.8824\n",
            "Epoch 4/20\n",
            "27/27 [==============================] - 26s 947ms/step - loss: 0.5573 - accuracy: 0.8436 - val_loss: 0.2740 - val_accuracy: 0.8869\n",
            "Epoch 5/20\n",
            "27/27 [==============================] - 26s 950ms/step - loss: 0.3136 - accuracy: 0.8709 - val_loss: 0.2731 - val_accuracy: 0.8778\n",
            "Epoch 6/20\n",
            "27/27 [==============================] - 26s 956ms/step - loss: 0.2732 - accuracy: 0.8866 - val_loss: 0.2573 - val_accuracy: 0.8869\n",
            "Epoch 7/20\n",
            "27/27 [==============================] - 26s 954ms/step - loss: 0.2656 - accuracy: 0.8910 - val_loss: 0.2695 - val_accuracy: 0.8507\n",
            "Epoch 8/20\n",
            "27/27 [==============================] - 26s 948ms/step - loss: 0.2974 - accuracy: 0.8827 - val_loss: 0.2419 - val_accuracy: 0.8959\n",
            "Epoch 9/20\n",
            "27/27 [==============================] - 26s 945ms/step - loss: 0.2360 - accuracy: 0.8993 - val_loss: 0.2529 - val_accuracy: 0.8824\n",
            "Epoch 10/20\n",
            "27/27 [==============================] - 26s 957ms/step - loss: 0.2588 - accuracy: 0.8866 - val_loss: 0.2620 - val_accuracy: 0.8733\n",
            "Epoch 11/20\n",
            "27/27 [==============================] - 26s 972ms/step - loss: 0.2256 - accuracy: 0.9052 - val_loss: 0.3013 - val_accuracy: 0.8914\n",
            "Epoch 12/20\n",
            "27/27 [==============================] - 26s 951ms/step - loss: 0.2619 - accuracy: 0.9005 - val_loss: 0.2454 - val_accuracy: 0.8824\n",
            "Epoch 13/20\n",
            "27/27 [==============================] - 26s 952ms/step - loss: 0.2343 - accuracy: 0.8957 - val_loss: 0.2728 - val_accuracy: 0.8914\n",
            "Epoch 14/20\n",
            "27/27 [==============================] - 26s 947ms/step - loss: 0.2505 - accuracy: 0.9017 - val_loss: 0.2220 - val_accuracy: 0.8914\n",
            "Epoch 15/20\n",
            "27/27 [==============================] - 25s 940ms/step - loss: 0.2655 - accuracy: 0.8791 - val_loss: 0.2231 - val_accuracy: 0.8914\n",
            "Epoch 16/20\n",
            "27/27 [==============================] - 25s 941ms/step - loss: 0.2230 - accuracy: 0.8969 - val_loss: 0.2275 - val_accuracy: 0.8914\n",
            "Epoch 17/20\n",
            "27/27 [==============================] - 27s 1s/step - loss: 0.2162 - accuracy: 0.9088 - val_loss: 0.2301 - val_accuracy: 0.8914\n",
            "Epoch 18/20\n",
            "27/27 [==============================] - 25s 944ms/step - loss: 0.2395 - accuracy: 0.8945 - val_loss: 0.2228 - val_accuracy: 0.8869\n",
            "Epoch 19/20\n",
            "27/27 [==============================] - 26s 954ms/step - loss: 0.2557 - accuracy: 0.8993 - val_loss: 0.2299 - val_accuracy: 0.8914\n",
            "Epoch 20/20\n",
            "27/27 [==============================] - 26s 949ms/step - loss: 0.2132 - accuracy: 0.9064 - val_loss: 0.2409 - val_accuracy: 0.8959\n"
          ]
        }
      ]
    },
    {
      "cell_type": "code",
      "source": [
        "model.save(\"/content/drive/MyDrive/Data_O/OOO/Cancer/Inception_v3.hdf5\")"
      ],
      "metadata": {
        "id": "ZXZcutw4mzob"
      },
      "execution_count": null,
      "outputs": []
    },
    {
      "cell_type": "code",
      "source": [
        "from sklearn.metrics import confusion_matrix,classification_report\n",
        "from sklearn.metrics import accuracy_score\n",
        "import seaborn as sns\n",
        "from sklearn.metrics import confusion_matrix\n"
      ],
      "metadata": {
        "id": "yaEatK1cnEyN"
      },
      "execution_count": null,
      "outputs": []
    },
    {
      "cell_type": "code",
      "source": [
        "y_pred=model.predict(x_test)\n",
        "threshold=0.5\n",
        "y_pred_threshold=[(1 if val>threshold else 0) for val in y_pred]\n",
        "y_true=x_test.labels.tolist()\n",
        "print(confusion_matrix(y_true,y_pred_threshold))\n",
        "print(accuracy_score(y_true,y_pred_threshold))\n",
        "sns.heatmap(confusion_matrix(y_true,y_pred_threshold),annot=True)\n"
      ],
      "metadata": {
        "colab": {
          "base_uri": "https://localhost:8080/",
          "height": 334
        },
        "id": "tWWQ922lnF_-",
        "outputId": "75ae08f5-bd6e-44d4-c52e-d6969d39cbf9"
      },
      "execution_count": null,
      "outputs": [
        {
          "output_type": "stream",
          "name": "stdout",
          "text": [
            "[[32 52]\n",
            " [49 88]]\n",
            "0.5429864253393665\n"
          ]
        },
        {
          "output_type": "execute_result",
          "data": {
            "text/plain": [
              "<matplotlib.axes._subplots.AxesSubplot at 0x7fd6700570d0>"
            ]
          },
          "metadata": {},
          "execution_count": 37
        },
        {
          "output_type": "display_data",
          "data": {
            "text/plain": [
              "<Figure size 432x288 with 2 Axes>"
            ],
            "image/png": "[encoded data removed]"
          },
          "metadata": {
            "needs_background": "light"
          }
        }
      ]
    },
    {
      "cell_type": "code",
      "source": [
        "y_pred = model.predict(x_test, verbose=1)\n",
        "y_pred_bool = np.argmax(y_pred, axis=1)\n",
        "#y_true=x_test.labels.tolist()\n",
        "\n",
        "\n",
        "\n",
        "print(classification_report(y_true, y_pred_bool))\n",
        "\n",
        "print(confusion_matrix(y_true, y_pred=y_pred_bool))"
      ],
      "metadata": {
        "colab": {
          "base_uri": "https://localhost:8080/"
        },
        "id": "iQ7LUeuIuezK",
        "outputId": "8d37e176-3572-49b6-f373-335aeffcddef"
      },
      "execution_count": null,
      "outputs": [
        {
          "output_type": "stream",
          "name": "stdout",
          "text": [
            "7/7 [==============================] - 2s 263ms/step\n",
            "              precision    recall  f1-score   support\n",
            "\n",
            "           0       0.38      1.00      0.55        84\n",
            "           1       0.00      0.00      0.00       137\n",
            "\n",
            "    accuracy                           0.38       221\n",
            "   macro avg       0.19      0.50      0.28       221\n",
            "weighted avg       0.14      0.38      0.21       221\n",
            "\n",
            "[[ 84   0]\n",
            " [137   0]]\n"
          ]
        }
      ]
    },
    {
      "cell_type": "code",
      "source": [
        "keys=history.history.keys()\n",
        "print(keys)"
      ],
      "metadata": {
        "colab": {
          "base_uri": "https://localhost:8080/"
        },
        "id": "DcF1WSL2nJfG",
        "outputId": "c88ecebe-1ef2-4bd2-a654-c6e87587286b"
      },
      "execution_count": null,
      "outputs": [
        {
          "output_type": "stream",
          "name": "stdout",
          "text": [
            "dict_keys(['loss', 'accuracy', 'val_loss', 'val_accuracy'])\n"
          ]
        }
      ]
    },
    {
      "cell_type": "code",
      "source": [
        "plt.figure(1,figsize=(15,8))\n",
        "plt.subplot(221)\n",
        "plt.plot(history.history['accuracy'])\n",
        "plt.plot(history.history['val_accuracy'])\n",
        "plt.title('Model_Accuracy')\n",
        "plt.ylabel('Accuracy')\n",
        "plt.xlabel('Epoch')\n",
        "plt.legend(['train','valid'])"
      ],
      "metadata": {
        "colab": {
          "base_uri": "https://localhost:8080/",
          "height": 293
        },
        "id": "IUMUN6cCnOgO",
        "outputId": "cd731d90-de4e-4781-c6cf-e871d06b3575"
      },
      "execution_count": null,
      "outputs": [
        {
          "output_type": "execute_result",
          "data": {
            "text/plain": [
              "<matplotlib.legend.Legend at 0x7fd66e7388b0>"
            ]
          },
          "metadata": {},
          "execution_count": 40
        },
        {
          "output_type": "display_data",
          "data": {
            "text/plain": [
              "<Figure size 1080x576 with 1 Axes>"
            ],
            "image/png": "[encoded data removed]"
          },
          "metadata": {
            "needs_background": "light"
          }
        }
      ]
    },
    {
      "cell_type": "code",
      "source": [
        "plt.figure(1,figsize=(15,8))\n",
        "plt.subplot(222)\n",
        "plt.plot(history.history['loss'])\n",
        "plt.plot(history.history['val_loss'])\n",
        "plt.title('Model_loss')\n",
        "plt.ylabel('loss')\n",
        "plt.xlabel('Epoch')\n",
        "plt.legend(['train','valid'])\n",
        "\n",
        "plt.show()"
      ],
      "metadata": {
        "colab": {
          "base_uri": "https://localhost:8080/",
          "height": 276
        },
        "id": "Dbm1Xo_unTHX",
        "outputId": "2d2e41d7-4bb4-4504-a3a5-7a3a8ceeee37"
      },
      "execution_count": null,
      "outputs": [
        {
          "output_type": "display_data",
          "data": {
            "text/plain": [
              "<Figure size 1080x576 with 1 Axes>"
            ],
            "image/png": "[encoded data removed]"
          },
          "metadata": {
            "needs_background": "light"
          }
        }
      ]
    },
    {
      "cell_type": "code",
      "source": [
        "for key in keys:\n",
        "  plt.figure(figsize=(15,2))\n",
        "  plt.plot(history.history[key])\n",
        "  plt.title(key)\n",
        "  plt.ylabel(key)\n",
        "  plt.xlabel('epoch')\n",
        "  plt.legend(['train','valid'])\n",
        "\n",
        "plt.show()"
      ],
      "metadata": {
        "colab": {
          "base_uri": "https://localhost:8080/",
          "height": 697
        },
        "id": "2sXV0hVcnYfv",
        "outputId": "00f3085a-a59f-4f37-fea0-4b948e607a61"
      },
      "execution_count": null,
      "outputs": [
        {
          "output_type": "display_data",
          "data": {
            "text/plain": [
              "<Figure size 1080x144 with 1 Axes>"
            ],
            "image/png": "[encoded data removed]"
          },
          "metadata": {
            "needs_background": "light"
          }
        },
        {
          "output_type": "display_data",
          "data": {
            "text/plain": [
              "<Figure size 1080x144 with 1 Axes>"
            ],
            "image/png": "[encoded data removed]"
          },
          "metadata": {
            "needs_background": "light"
          }
        },
        {
          "output_type": "display_data",
          "data": {
            "text/plain": [
              "<Figure size 1080x144 with 1 Axes>"
            ],
            "image/png": "[encoded data removed]"
          },
          "metadata": {
            "needs_background": "light"
          }
        },
        {
          "output_type": "display_data",
          "data": {
            "text/plain": [
              "<Figure size 1080x144 with 1 Axes>"
            ],
            "image/png": "[encoded data removed]"
          },
          "metadata": {
            "needs_background": "light"
          }
        }
      ]
    },
    {
      "cell_type": "code",
      "source": [
        "from tensorflow import keras\n",
        "from tensorflow.keras import layers\n",
        "from keras.models import load_model\n",
        "model=load_model('/content/drive/MyDrive/Data_O/OOO/Cancer/Inception_v3.hdf5')"
      ],
      "metadata": {
        "id": "K2kkiNLEnh_e"
      },
      "execution_count": null,
      "outputs": []
    },
    {
      "cell_type": "code",
      "source": [
        "from keras.preprocessing import image\n",
        "import cv2\n",
        "import numpy as np\n",
        "import PIL\n",
        "from PIL import Image"
      ],
      "metadata": {
        "id": "WytjPMJanonE"
      },
      "execution_count": null,
      "outputs": []
    },
    {
      "cell_type": "code",
      "source": [
        "img = image.load_img('/content/drive/MyDrive/Data_O/OOO/Cancer/Split_data_inception_V3/validation/Malignant cases/Malignant case (170).jpg',target_size=(299,299))"
      ],
      "metadata": {
        "id": "l4Mvpe6lnsHl"
      },
      "execution_count": null,
      "outputs": []
    },
    {
      "cell_type": "code",
      "source": [
        "x=image.img_to_array(img)\n",
        "x=np.expand_dims(x,axis=0)\n",
        "x.shape"
      ],
      "metadata": {
        "colab": {
          "base_uri": "https://localhost:8080/"
        },
        "id": "d0J3i2CHn1sm",
        "outputId": "9717f868-7816-423e-a77b-763de8a2d9d7"
      },
      "execution_count": null,
      "outputs": [
        {
          "output_type": "execute_result",
          "data": {
            "text/plain": [
              "(1, 299, 299, 3)"
            ]
          },
          "metadata": {},
          "execution_count": 54
        }
      ]
    },
    {
      "cell_type": "code",
      "source": [
        "pred = model.predict(x)\n",
        "pred"
      ],
      "metadata": {
        "colab": {
          "base_uri": "https://localhost:8080/"
        },
        "id": "BUJdB6kNn5ig",
        "outputId": "581159bf-24de-4d10-9441-45354eabea4d"
      },
      "execution_count": null,
      "outputs": [
        {
          "output_type": "execute_result",
          "data": {
            "text/plain": [
              "array([[1.]], dtype=float32)"
            ]
          },
          "metadata": {},
          "execution_count": 55
        }
      ]
    },
    {
      "cell_type": "code",
      "source": [
        "class_names=[\"Bengin cases\",\"Malignant cases\"]\n",
        "prediction = class_names[int(pred[0][0])]\n",
        "print(pred[0][0])\n",
        "print(prediction)"
      ],
      "metadata": {
        "colab": {
          "base_uri": "https://localhost:8080/"
        },
        "id": "7tawtbabn9ed",
        "outputId": "515f42ab-e72d-4db7-a56c-d64107825b50"
      },
      "execution_count": null,
      "outputs": [
        {
          "output_type": "stream",
          "name": "stdout",
          "text": [
            "1.0\n",
            "Malignant cases\n"
          ]
        }
      ]
    },
    {
      "cell_type": "code",
      "source": [
        "!pip install pyngrok==4.1.1"
      ],
      "metadata": {
        "id": "Xwqhl8Kvm3KC"
      },
      "execution_count": null,
      "outputs": []
    },
    {
      "cell_type": "code",
      "source": [
        "!pip install flask_ngrok\n",
        "!ngrok authtoken 2L2K2jLowvwGqsOFktpa14xk1Av_5n8dboKu9yH1PkyoiCgx2 #Without \"\" marks \n",
        "\n",
        "from flask_ngrok import run_with_ngrok\n",
        "from flask import Flask, render_template"
      ],
      "metadata": {
        "id": "J5e2egPfnSuv"
      },
      "execution_count": null,
      "outputs": []
    },
    {
      "cell_type": "code",
      "source": [
        "!ls"
      ],
      "metadata": {
        "colab": {
          "base_uri": "https://localhost:8080/"
        },
        "id": "yR7WcBtML2Ey",
        "outputId": "cabb53e7-4b6f-49f0-ff7c-f51efbfa9c2b"
      },
      "execution_count": null,
      "outputs": [
        {
          "output_type": "stream",
          "name": "stdout",
          "text": [
            "drive  sample_data\n"
          ]
        }
      ]
    },
    {
      "cell_type": "code",
      "source": [
        "!pip install --upgrade gevent"
      ],
      "metadata": {
        "id": "cfLB_2PiGBum"
      },
      "execution_count": null,
      "outputs": []
    },
    {
      "cell_type": "code",
      "source": [
        "import os\n",
        "\n",
        "if not os.path.exists('templates'):\n",
        "  os.makedirs('/content/drive/MyDrive/Webapp/templates')\n",
        "if not os.path.exists('static'):\n",
        "  os.makedirs('/content/drive/MyDrive/Webapp/static')"
      ],
      "metadata": {
        "id": "oacTY_mKonoe"
      },
      "execution_count": null,
      "outputs": []
    },
    {
      "cell_type": "code",
      "source": [
        "import tensorflow as tf\n",
        "from tensorflow import keras \n",
        "import numpy as np\n",
        "import os\n",
        "\n",
        "from tensorflow.keras.models import load_model\n",
        "from tensorflow.keras.preprocessing import image\n",
        "from flask import Flask, request, render_template\n",
        "from werkzeug.utils import secure_filename\n",
        "from gevent.pywsgi import WSGIServer"
      ],
      "metadata": {
        "id": "ohJep9eTGJaB"
      },
      "execution_count": null,
      "outputs": []
    },
    {
      "cell_type": "code",
      "source": [
        "import cv2\n",
        "from tensorflow.keras.models import Sequential \n",
        "from tensorflow.keras.layers import Dense"
      ],
      "metadata": {
        "id": "EDqSHszGGRrN"
      },
      "execution_count": null,
      "outputs": []
    },
    {
      "cell_type": "code",
      "source": [
        "from flask_ngrok import run_with_ngrok\n",
        "from flask import Flask, redirect, url_for, request, render_template\n",
        "from werkzeug.utils import secure_filename\n",
        "from gevent.pywsgi import WSGIServer"
      ],
      "metadata": {
        "id": "jMcld_m9GXVq"
      },
      "execution_count": null,
      "outputs": []
    },
    {
      "cell_type": "code",
      "source": [
        "MODEL_PATH = '/content/drive/MyDrive/Data_O/OOO/Cancer/Inception_v3.hdf5'\n",
        "model = load_model(MODEL_PATH)\n",
        "#print('Model Loaded. Check http://127.0.0.1:5000/')"
      ],
      "metadata": {
        "id": "vQSGDf--GmWm"
      },
      "execution_count": null,
      "outputs": []
    },
    {
      "cell_type": "code",
      "source": [
        "from flask import Flask, request, jsonify\n",
        "from tensorflow.keras.preprocessing import image\n",
        "import numpy as np\n",
        "\n",
        "# Load the saved model\n",
        "model = load_model('/content/drive/MyDrive/Data_O/OOO/Cancer/Inception_v3.hdf5')\n",
        "\n",
        "# Define a Flask app\n",
        "app = Flask(__name__)\n",
        "\n",
        "# Define a route for predicting the uploaded images\n",
        "@app.route('/predict', methods=['POST'])\n",
        "def predict():\n",
        "    # Get the uploaded file from the request\n",
        "    file = request.files['image']\n",
        "    \n",
        "    # Load the image and preprocess it\n",
        "    img = image.load_img(file, target_size=(224, 224))\n",
        "    x = image.img_to_array(img)\n",
        "    x = np.expand_dims(x, axis=0)\n",
        "    x = preprocess_input(x)\n",
        "    \n",
        "    # Make a prediction\n",
        "    preds = model.predict(x)\n",
        "    \n",
        "    # Get the class label\n",
        "    label = decode_predictions(preds, top=1)[0][0][1]\n",
        "    \n",
        "    # Return the prediction result\n",
        "    return jsonify({'class': label})\n",
        "\n",
        "if __name__ == '__main__':\n",
        "    app.run(debug=True)"
      ],
      "metadata": {
        "colab": {
          "base_uri": "https://localhost:8080/"
        },
        "id": "t-ZeBWHXrbzy",
        "outputId": "d4b91b55-9566-401f-bc7c-43c69e486df6"
      },
      "execution_count": null,
      "outputs": [
        {
          "output_type": "stream",
          "name": "stdout",
          "text": [
            " * Serving Flask app \"__main__\" (lazy loading)\n",
            " * Environment: production\n",
            "\u001b[31m   WARNING: This is a development server. Do not use it in a production deployment.\u001b[0m\n",
            "\u001b[2m   Use a production WSGI server instead.\u001b[0m\n",
            " * Debug mode: off\n"
          ]
        },
        {
          "output_type": "stream",
          "name": "stderr",
          "text": [
            "INFO:werkzeug: * Running on http://127.0.0.1:5000/ (Press CTRL+C to quit)\n"
          ]
        }
      ]
    },
    {
      "cell_type": "code",
      "source": [
        "if __name__ == '__main__':\n",
        "    app.run()\n",
        "\n",
        "app = Flask(__name__ ) \n",
        "run_with_ngrok(app)"
      ],
      "metadata": {
        "colab": {
          "base_uri": "https://localhost:8080/"
        },
        "id": "osBsCV8ZHOJc",
        "outputId": "8f077355-0379-4bb8-fa76-b2fbf55f5d26"
      },
      "execution_count": null,
      "outputs": [
        {
          "output_type": "stream",
          "name": "stdout",
          "text": [
            " * Serving Flask app \"__main__\" (lazy loading)\n",
            " * Environment: production\n",
            "\u001b[31m   WARNING: This is a development server. Do not use it in a production deployment.\u001b[0m\n",
            "\u001b[2m   Use a production WSGI server instead.\u001b[0m\n",
            " * Debug mode: off\n"
          ]
        },
        {
          "output_type": "stream",
          "name": "stderr",
          "text": [
            "INFO:werkzeug: * Running on http://127.0.0.1:5000/ (Press CTRL+C to quit)\n"
          ]
        }
      ]
    }
  ]
}